{
  "nbformat": 4,
  "nbformat_minor": 0,
  "metadata": {
    "colab": {
      "name": "21BlackjackGrClass2StGroup32.ipynb",
      "provenance": [],
      "collapsed_sections": []
    },
    "kernelspec": {
      "name": "python3",
      "display_name": "Python 3"
    }
  },
  "cells": [
    {
      "cell_type": "markdown",
      "metadata": {
        "id": "MbdY8Hr_lT-G",
        "colab_type": "text"
      },
      "source": [
        "**LAB 4 Monte Carlo – 21 Blackjack**\n",
        "\n",
        "Grupo 2, Equipo 32\n",
        "*   Alejandro Martin Salcedo\n",
        "*   Juliana Alejandra Nieto Cárdenas\n",
        "*   David Alexander Nuñez Quintero\n",
        "\n",
        "\n",
        "\n"
      ]
    },
    {
      "cell_type": "markdown",
      "metadata": {
        "id": "ZZejcVoV8ozT",
        "colab_type": "text"
      },
      "source": [
        "Vamos a usar la librería random para obtener aleatoriamente cartas del mazo en cada ejercicio del laboratorio. También haremos uso de la librería pyplot  de matplotlib para la elaboración de los diagramas de distribución"
      ]
    },
    {
      "cell_type": "code",
      "metadata": {
        "id": "nhqSPi3wkU3W",
        "colab_type": "code",
        "colab": {}
      },
      "source": [
        "import random\n",
        "import matplotlib.pyplot as plt"
      ],
      "execution_count": 1,
      "outputs": []
    },
    {
      "cell_type": "markdown",
      "metadata": {
        "id": "gzT22F2O8-dN",
        "colab_type": "text"
      },
      "source": [
        "**Ejercicio 1**"
      ]
    },
    {
      "cell_type": "code",
      "metadata": {
        "id": "q7rKUq8aszp3",
        "colab_type": "code",
        "colab": {}
      },
      "source": [
        "def main(num_cartass):                                                      #función para calcular la probabilidad de obtener 21 dependiendo del deck(española o poker)\n",
        "\n",
        "  times=100000                                                              #número de simulaciones\n",
        "  prob=0                                                                    #almacena el número de veces que obtiene 21\n",
        "  total_cartas=[]                                                           #almacena el número de cartas con las que se obtuvo 21\n",
        "\n",
        "  for i in range(times):\n",
        "    num_cartas=0 \n",
        "\n",
        "                                                                            #carts almacena el deck correspondiente al parametro numero de cartas (52=poker , 48=española)\n",
        "    carts=[1,2,3,4,5,6,7,8,9,10,11,12,13,1,2,3,4,5,6,7,8,9,10,11,12,13,1,2,3,4,5,6,7,8,9,10,11,12,13,1,2,3,4,5,6,7,8,9,10,11,12,13] if num_cartass==52 else [1,2,3,4,5,6,7,8,9,10,11,12,1,2,3,4,5,6,7,8,9,10,11,12,1,2,3,4,5,6,7,8,9,10,11,12,1,2,3,4,5,6,7,8,9,10,11,12] \n",
        "    suma=0\n",
        "    j=num_cartass-1\n",
        "\n",
        "                                                                            #el siguiente while elije cartas aleatorias en el maso hasta que sea mayor o igual a 21\n",
        "    while suma<21:\n",
        "      suma+=carts.pop(random.randint(0,j))\n",
        "      num_cartas+=1\n",
        "      j-=1\n",
        "\n",
        "    if suma==21:\n",
        "      total_cartas.append(num_cartas)                                       #si las cartas elegidas suman 21, el jugador ha ganado y aumentamos la variable contador prob\n",
        "      prob+=1                                                               #guardamos en total cartas, el numero de cartas que fue necesario para obtener 21\n",
        "\n",
        "                                                                            #prob/times retorna la probabilidad de obtener 21 (con el deck español o poker)\n",
        "                                                                            #average es el promedio de cartas que se necesito para obtener  21\n",
        "  deck=\"española\" if num_cartass==48 else \"poker\"\n",
        "  print(\"Baraja: \",deck)\n",
        "  print(\"probabilidad de obtener 21: \",prob/times,\"\\npromedio de cartas:\",sum(total_cartas)/len(total_cartas))\n",
        "\n",
        "                                                                            #acontinuación se realiza el plot del histograma del número de cartas para obtener 21\n",
        "  plt.hist(total_cartas,density=True, bins=max(total_cartas)-min(total_cartas))\n",
        "  plt.xlabel('Numero de cartas')\n",
        "  plt.ylabel('Frecuencia')\n",
        "  plt.title(\"Histograma n° de cartas para obtener 21 en baraja {0}\".format(deck))\n",
        "  plt.show()\n",
        "\n",
        "  "
      ],
      "execution_count": 2,
      "outputs": []
    },
    {
      "cell_type": "markdown",
      "metadata": {
        "id": "O5k_4ik99DzU",
        "colab_type": "text"
      },
      "source": [
        "*Ejercicio 1:* Baraja Española\n",
        "\n"
      ]
    },
    {
      "cell_type": "code",
      "metadata": {
        "id": "THD772eqs5P8",
        "colab_type": "code",
        "colab": {
          "base_uri": "https://localhost:8080/",
          "height": 346
        },
        "outputId": "aebfc333-851b-4d22-db39-36f842a868db"
      },
      "source": [
        "main(48)"
      ],
      "execution_count": 3,
      "outputs": [
        {
          "output_type": "stream",
          "text": [
            "Baraja:  española\n",
            "probabilidad de obtener 21:  0.1581 \n",
            "promedio de cartas: 3.4198608475648324\n"
          ],
          "name": "stdout"
        },
        {
          "output_type": "display_data",
          "data": {
            "image/png": "[encoded data removed]",
            "text/plain": [
              "<Figure size 432x288 with 1 Axes>"
            ]
          },
          "metadata": {
            "tags": [],
            "needs_background": "light"
          }
        }
      ]
    },
    {
      "cell_type": "markdown",
      "metadata": {
        "id": "mGgk0NDL9NSE",
        "colab_type": "text"
      },
      "source": [
        "*Ejercicio 1:* Poker"
      ]
    },
    {
      "cell_type": "code",
      "metadata": {
        "id": "cpCI9wZ5s8Zc",
        "colab_type": "code",
        "colab": {
          "base_uri": "https://localhost:8080/",
          "height": 346
        },
        "outputId": "716bdf6b-adf8-4684-ee1d-8483ad8ff3f8"
      },
      "source": [
        "main(52)"
      ],
      "execution_count": 4,
      "outputs": [
        {
          "output_type": "stream",
          "text": [
            "Baraja:  poker\n",
            "probabilidad de obtener 21:  0.14387 \n",
            "promedio de cartas: 3.2074789740738168\n"
          ],
          "name": "stdout"
        },
        {
          "output_type": "display_data",
          "data": {
            "image/png": "[encoded data removed]",
            "text/plain": [
              "<Figure size 432x288 with 1 Axes>"
            ]
          },
          "metadata": {
            "tags": [],
            "needs_background": "light"
          }
        }
      ]
    },
    {
      "cell_type": "markdown",
      "metadata": {
        "id": "Zf6FSivQ9Rto",
        "colab_type": "text"
      },
      "source": [
        "**Ejercicio 2**"
      ]
    },
    {
      "cell_type": "code",
      "metadata": {
        "id": "TwoFqohqs9_o",
        "colab_type": "code",
        "colab": {}
      },
      "source": [
        "def main2(num_cartass):                                                     #función para calcular la probabilidad de obtener 21 dependiendo del deck(española o poker, cambiando 11,12,13 por 10)\n",
        "\n",
        "  times=100000                                                              #número de simulaciones\n",
        "  prob=0                                                                    #almacena el número de veces que obtiene 21\n",
        "  total_cartas=[]                                                           #almacena el número de cartas con las que se obtuvo 21\n",
        "\n",
        "  for i in range(times):\n",
        "    num_cartas=0\n",
        "    \n",
        "                                                                            #carts almacena el deck correspondiente al parametro numero de cartas (52=poker , 48=española)\n",
        "    carts=[1,2,3,4,5,6,7,8,9,10,10,10,10,1,2,3,4,5,6,7,8,9,10,10,10,10,1,2,3,4,5,6,7,8,9,10,10,10,10,1,2,3,4,5,6,7,8,9,10,10,10,10] if num_cartass==52 else [1,2,3,4,5,6,7,8,9,10,10,10,1,2,3,4,5,6,7,8,9,10,10,10,1,2,3,4,5,6,7,8,9,10,10,10,1,2,3,4,5,6,7,8,9,10,10,10] \n",
        "    suma=0\n",
        "    j=num_cartass-1\n",
        "\n",
        "    while suma<21:                                                          #elije cartas aleatorias en el maso hasta que sea mayor o igual a 21 \n",
        "      suma+=carts.pop(random.randint(0,j))\n",
        "      num_cartas+=1\n",
        "      j-=1\n",
        "\n",
        "    if suma==21:\n",
        "      total_cartas.append(num_cartas)                                       #si las cartas elegidas suman 21, el jugador ha ganado y aumentamos la variable contador prob\n",
        "      prob+=1                                                               #guardamos en total cartas, el numero de cartas que fue necesario para obtener 21\n",
        "  \n",
        "  \n",
        "                                                                            #prob/times retorna la probabilidad de obtener 21 (con el deck español o poker)\n",
        "                                                                            #promedio de cartas es el promedio de cartas que se necesito para obtener  21\n",
        "  deck=\"española\" if num_cartass==48 else \"poker\"\n",
        "  print(\"Baraja: \",deck)\n",
        "  print(\"probabilidad de obtener 21: \",prob/times,\"\\npromedio de cartas:\",sum(total_cartas)/len(total_cartas))\n",
        "  \n",
        "                                                                            #acontinuación se realiza el plot del histograma del número de cartas para obtener 21\n",
        "  plt.hist(total_cartas,density=True, bins=max(total_cartas)-min(total_cartas))\n",
        "  plt.xlabel('Numero de cartas')\n",
        "  plt.ylabel('Frecuencia')\n",
        "  plt.title(\"Histograma n° de cartas para obtener 21 en baraja {0}\".format(deck))\n",
        "  plt.show()\n",
        "\n"
      ],
      "execution_count": 5,
      "outputs": []
    },
    {
      "cell_type": "markdown",
      "metadata": {
        "id": "00Ct0RiV9XpT",
        "colab_type": "text"
      },
      "source": [
        "*Ejercicio 2:* Baraja Española"
      ]
    },
    {
      "cell_type": "code",
      "metadata": {
        "id": "hpF-pqQOtGRc",
        "colab_type": "code",
        "colab": {
          "base_uri": "https://localhost:8080/",
          "height": 346
        },
        "outputId": "c3fbb36a-7fde-4b85-e937-be3a8ebb02ff"
      },
      "source": [
        "main2(48)"
      ],
      "execution_count": 6,
      "outputs": [
        {
          "output_type": "stream",
          "text": [
            "Baraja:  española\n",
            "probabilidad de obtener 21:  0.14869 \n",
            "promedio de cartas: 3.6986347434259197\n"
          ],
          "name": "stdout"
        },
        {
          "output_type": "display_data",
          "data": {
            "image/png": "[encoded data removed]",
            "text/plain": [
              "<Figure size 432x288 with 1 Axes>"
            ]
          },
          "metadata": {
            "tags": [],
            "needs_background": "light"
          }
        }
      ]
    },
    {
      "cell_type": "code",
      "metadata": {
        "id": "O3mZIFtStHal",
        "colab_type": "code",
        "colab": {
          "base_uri": "https://localhost:8080/",
          "height": 346
        },
        "outputId": "829c8bac-277e-4c08-9058-31903245aa01"
      },
      "source": [
        "main2(52)"
      ],
      "execution_count": 7,
      "outputs": [
        {
          "output_type": "stream",
          "text": [
            "Baraja:  poker\n",
            "probabilidad de obtener 21:  0.13836 \n",
            "promedio de cartas: 3.5761058109280137\n"
          ],
          "name": "stdout"
        },
        {
          "output_type": "display_data",
          "data": {
            "image/png": "[encoded data removed]",
            "text/plain": [
              "<Figure size 432x288 with 1 Axes>"
            ]
          },
          "metadata": {
            "tags": [],
            "needs_background": "light"
          }
        }
      ]
    },
    {
      "cell_type": "markdown",
      "metadata": {
        "id": "yxYmPn7Fci1Q",
        "colab_type": "text"
      },
      "source": [
        "*Ejercicio 3:* Baraja Poker"
      ]
    },
    {
      "cell_type": "code",
      "metadata": {
        "id": "sm0h02uYtMmh",
        "colab_type": "code",
        "colab": {}
      },
      "source": [
        "#Ejercicio 3 v3 Eliminado aleatorio de cartas\n",
        "\n",
        "def main3(num_cartass):                                                      #Aqui escojemos si utilizamos el mazo español(48) o el mazo de poker(52)\n",
        "  times=100000                                                              #El numero de juegos simulados\n",
        "  prob=0\n",
        "  total_cartas=[]\n",
        "  num_cartas=3\n",
        "  carts_deck=[1,2,3,4,5,6,7,8,9,10,11,12,13,1,2,3,4,5,6,7,8,9,10,11,12,13,1,2,3,4,5,6,7,8,9,10,11,12,13,1,2,3,4,5,6,7,8,9,10,11,12,13] if num_cartass==52 else [1,2,3,4,5,6,7,8,9,10,11,12,1,2,3,4,5,6,7,8,9,10,11,12,1,2,3,4,5,6,7,8,9,10,11,12,1,2,3,4,5,6,7,8,9,10,11,12] \n",
        "  carts_deck.remove(7)                                                         #Removemos 7, 7 y 5 ya que esas cartas las tenemos ya\n",
        "  carts_deck.remove(7)\n",
        "  carts_deck.remove(5)\n",
        "  n = num_cartass - 3\n",
        "  while n > num_cartass/2:                                                #Eliminamos hasta la mitad del mazo aleatoriamente\n",
        "      carts_deck.pop(random.randint(0,n-1))\n",
        "      n -= 1\n",
        "  print(\"baraja: \",carts_deck)\n",
        "  for i in range(times):\n",
        "    carts=list(carts_deck)\n",
        "    num_cartas=3\n",
        "    suma=19      \n",
        "                                                            #La suma de 7, 7 y 5 es 19\n",
        "    j=num_cartass/2 - 1\n",
        "       \n",
        "    while suma<21:                                                          #Sacamos cartas del mazo restante y miramos si da blackjack\n",
        "      suma+=carts.pop(random.randint(0,j))\n",
        "      num_cartas+=1\n",
        "      j-=1\n",
        "    if suma==21:                                                            #Si da blackjack se ingresa el numero de cartas que se necesitan para encontrarlo en una lista creada anteriormente\n",
        "      total_cartas.append(num_cartas)\n",
        "      prob+=1\n",
        "  deck=\"española\" if num_cartass==48 else \"poker\"\n",
        "  print(\"Baraja: \",deck)\n",
        "  print(\"probabilidad: \",prob/times,\" \\naverage #:\",sum(total_cartas)/len(total_cartas))\n",
        "  plt.hist(total_cartas,density=True, bins=[4,5,6])                         #Aqui se hace el histograma de cuantas cartas se necesitan para hacer un blackjack\n",
        "  plt.xlabel('Numero de cartas')\n",
        "\n",
        "  plt.ylabel('Frecuencia')\n",
        "  plt.title(\"Histograma n° de cartas para obtener 21 en baraja {0}\".format(deck))\n",
        "  plt.show()\n",
        "  "
      ],
      "execution_count": 8,
      "outputs": []
    },
    {
      "cell_type": "code",
      "metadata": {
        "id": "TD6anmYqFrd9",
        "colab_type": "code",
        "colab": {
          "base_uri": "https://localhost:8080/",
          "height": 363
        },
        "outputId": "21847c11-a026-4acb-bddf-64bc79e4d582"
      },
      "source": [
        "main3(52)"
      ],
      "execution_count": 9,
      "outputs": [
        {
          "output_type": "stream",
          "text": [
            "baraja:  [3, 4, 6, 8, 9, 10, 11, 12, 13, 4, 5, 8, 12, 13, 2, 4, 5, 6, 7, 13, 1, 4, 6, 8, 9, 10]\n",
            "Baraja:  poker\n",
            "probabilidad:  0.03808  \n",
            "average #: 4.0\n"
          ],
          "name": "stdout"
        },
        {
          "output_type": "display_data",
          "data": {
            "image/png": "[encoded data removed]",
            "text/plain": [
              "<Figure size 432x288 with 1 Axes>"
            ]
          },
          "metadata": {
            "tags": [],
            "needs_background": "light"
          }
        }
      ]
    },
    {
      "cell_type": "code",
      "metadata": {
        "id": "hydCY8wkFw5T",
        "colab_type": "code",
        "colab": {
          "base_uri": "https://localhost:8080/",
          "height": 363
        },
        "outputId": "9fd28679-d701-441a-b071-80c6804cc09c"
      },
      "source": [
        "main3(48)"
      ],
      "execution_count": 10,
      "outputs": [
        {
          "output_type": "stream",
          "text": [
            "baraja:  [1, 2, 4, 10, 12, 2, 5, 8, 9, 12, 3, 4, 6, 8, 12, 1, 2, 3, 4, 5, 7, 8, 11, 12]\n",
            "Baraja:  española\n",
            "probabilidad:  0.12953  \n",
            "average #: 4.028719215625724\n"
          ],
          "name": "stdout"
        },
        {
          "output_type": "display_data",
          "data": {
            "image/png": "[encoded data removed]",
            "text/plain": [
              "<Figure size 432x288 with 1 Axes>"
            ]
          },
          "metadata": {
            "tags": [],
            "needs_background": "light"
          }
        }
      ]
    },
    {
      "cell_type": "markdown",
      "metadata": {
        "id": "ESSDvtFL4M_z",
        "colab_type": "text"
      },
      "source": [
        "**Ejercicio 4**<br>\n",
        "Cálculo analítico de probabilidades:<br>\n",
        "Se tienen las cartas [7,7,5] y un mazo restante con 10 cartas que puede ser cold deck o hot deck.\n",
        "*    Si es *cold deck*, nuestro mazo restante tiene sólo una carta de valor 2\n",
        "y la probabilidad de sacar aleatoriamente una carta y sumar 21 es de 1/10 = 0.1.\n",
        "*    Si es *hot deck*, nuestro mazo tiene todas las instancias de 1 y 2 posibles de nuestro juego poker o español, es decir, el mazo restante sería de esta forma:\n",
        "[1, 1, 1, 1, 2, 2, 2, 2, x, y] donde x,y son cartas aleatorias del juego con valor mayor a 2. Luego sumar 21 se puede conseguir sacando [1,1] o [2]. Así la probabilidad es (2/5)*(3/9)+(2/5) = 0.5333"
      ]
    },
    {
      "cell_type": "code",
      "metadata": {
        "id": "gsDu6xSs6g8t",
        "colab_type": "code",
        "colab": {
          "base_uri": "https://localhost:8080/",
          "height": 330
        },
        "outputId": "49211710-9654-4f76-a069-81af16892603"
      },
      "source": [
        "#ejercicio 4\n",
        "def main4(number,rem):                                                      #función para obtener la probabilidad de obtener 21 con un hot deck o un cold deck\n",
        "  \n",
        "  hot = 0                                                                   #número de 21's con un hot deck\n",
        "  cold = 0                                                                  #número de 21's con el cold deck con la menor probabilidad\n",
        "  cold2=0                                                                   #número de 21's con el cold deck (2 opción)\n",
        "  disthot = []                                                              #almacena el número de cartas que se necesito para obtener 21 en un hot deck\n",
        "  distcold = []                                                             #almacena el número de cartas que se necesito para obtener 21 en un cold deck\n",
        "                                                                            #almacena el número de cartas que se necesito para obtener 21 en un cold deck(2 opción)\n",
        "\n",
        "  \n",
        "  for k in range(100000):                                                   #acontinuacion se ejecutan las simulaciones\n",
        "\n",
        "                                                                            #monto que tiene el jugador al inicio (sum,sum_cold,sum_cold2):\n",
        "    sum = 19                              \n",
        "    sum_cold=19\n",
        "    \n",
        "    cards = [7,7,5]                 \n",
        "    h_count=3                                                               #n° de cartas que se ha sacado en el hot deck\n",
        "    c_count=3                                                               #n° de cartas que se ha sacado en el cold deck\n",
        "                                                                  #n° de cartas que se ha sacado en el cold deck(2 opcion)\n",
        "\n",
        "                                                                            #respectivos decks:\n",
        "    deck_hot =[1,2,1,2,1,2,1,2,3,3]       \n",
        "    deck_cold=[3,4,6,8,9,10,11,12,13,3] \n",
        "    \n",
        "    \n",
        "    while sum <21:                                                          #los while acontinuacion eligen al azar una carta del maso hasta que el monto supere 21\n",
        "      card = deck_hot.pop(random.randint(0,len(deck_hot)-1))\n",
        "      sum+=card   \n",
        "      h_count+=1  \n",
        "    while sum_cold <21:\n",
        "      card = deck_cold.pop(random.randint(0,len(deck_cold)-1))\n",
        "      sum_cold+=card \n",
        "      c_count+=1 \n",
        "    \n",
        "\n",
        "                                                                            #acontinuación si el monto es igual a 21, se aumenta la probabilidad en cada uno de los respectivos casos\n",
        "                                                                            #además se añade a la respectiva lista el número de cartas con la que se obtuvo 21\n",
        "    if sum == 21:\n",
        "      hot+=1\n",
        "      disthot.append(h_count)\n",
        "    if sum_cold == 21:\n",
        "      cold+=1\n",
        "      discold.append(c_count)\n",
        "    \n",
        "      \n",
        "  print(\"Probabilidad del hot deck: \" ,hot/100000)\n",
        "  print(\"Probabilidad del cold deck 1: \",cold/100000)\n",
        "  \n",
        "  aaa = plt.hist(disthot,density=True, bins=[0,1,2,3,4,5,6,7], alpha= 0.5, label=\"Hot deck\")\n",
        "  \n",
        "  #bbb = plt.hist(distcold,density=True, bins=[0,1,2,3,4,5,6,7], alpha= 0.5)\n",
        "  \n",
        "  \n",
        "  plt.legend()\n",
        "  plt.xlabel('Numero de cartas')\n",
        "  plt.ylabel('Frecuencia')\n",
        "  plt.show();\n",
        "  print(\"No se puede graficar la distribucion para el Cold Deck\")\n",
        "main4(48,10)"
      ],
      "execution_count": 24,
      "outputs": [
        {
          "output_type": "stream",
          "text": [
            "Probabilidad del hot deck:  0.53335\n",
            "Probabilidad del cold deck 1:  0.0\n"
          ],
          "name": "stdout"
        },
        {
          "output_type": "display_data",
          "data": {
            "image/png": "[encoded data removed]",
            "text/plain": [
              "<Figure size 432x288 with 1 Axes>"
            ]
          },
          "metadata": {
            "tags": [],
            "needs_background": "light"
          }
        },
        {
          "output_type": "stream",
          "text": [
            "No se puede graficar la distribucion para el Cold Deck\n"
          ],
          "name": "stdout"
        }
      ]
    },
    {
      "cell_type": "markdown",
      "metadata": {
        "id": "YNCGsgvt6uYx",
        "colab_type": "text"
      },
      "source": [
        "**Ejercicio 5**"
      ]
    },
    {
      "cell_type": "markdown",
      "metadata": {
        "id": "BJSh3GgpQlOQ",
        "colab_type": "text"
      },
      "source": [
        "*Código usado para ejercicio 5 y 6*"
      ]
    },
    {
      "cell_type": "code",
      "metadata": {
        "id": "wKty6sgA6wJ-",
        "colab_type": "code",
        "colab": {}
      },
      "source": [
        "\n",
        "def main5(num_cartass, simul,r):                                            #num_cartass 52 = POKER, 48 = ESPAÑOLA; \n",
        "                                                                            #simul = numero de simulaciones (1 simulación es un fin de semana);\n",
        "                                                                            #r = numero de cartas en el remaining deck\n",
        "\n",
        "  sesion = 0                                                                #dinero total de simulaciones\n",
        "  for i in range(simul):\n",
        "    times=600                                                               #juegos por fin de semana\n",
        "    prob=0\n",
        "    total_cartas=[]\n",
        "    money = 0                                                               #dinero en la simulacion i\n",
        "    veceshot = 0\n",
        "    vecescold = 0\n",
        "    for i in range(times):\n",
        "      q = random.randint(1,10)                                              #determina que deck corresponde en la simulacion i, hot deck o cold deck, \n",
        "                                                                            #de acuerdo a la probabilidad de 1/10 de un hot deck planteada en el ejercicio\n",
        "\n",
        "      if(q == 1):                                                           #HOT DECK\n",
        "        num_cartas = 3\n",
        "        if r == 8:                                                          #j establece el límite para quitar una carta aleatoria del mazo\n",
        "          carts = [1,2,1,2,1,2,1,2]\n",
        "          j = 7\n",
        "        elif r == 10:\n",
        "          carts = [1,2,1,2,1,2,1,2,3,3]\n",
        "          j = 9\n",
        "        else:\n",
        "          carts = [1,2,1,2,1,2,1,2,3,3,3,3]\n",
        "          j = 11\n",
        "        suma = 19\n",
        "        \n",
        "        while suma<21:\n",
        "          suma+=carts.pop(random.randint(0,j))                              #quita una carta aleatoria del remaining deck hasta una suma >= 21\n",
        "          num_cartas+=1\n",
        "          j-=1\n",
        "        if suma==21:\n",
        "          total_cartas.append(num_cartas)                                   #si la suma es igual a 21, se agrega el número de cartas usadas para\n",
        "          prob+=1                                                           #llegar a 21 a la lista de total_cartas, y se\n",
        "          money+=1000                                                       #suma 1000 al dinero ganado en la simulacion i\n",
        "          veceshot+=1\n",
        "          \n",
        "        else:\n",
        "          money-=1000                                                       #si la suma no es igual a 21 se resta 1000 al dinero de la simulacion i\n",
        "\n",
        "\n",
        "\n",
        "      else:                                                                 #COLD DECK\n",
        "        num_cartas=0                                                        #se comienza con cero cartas y el mazo completo como el cold deck\n",
        "        carts=[1,2,3,4,5,6,7,8,9,10,11,12,13,1,2,3,4,5,6,7,8,9,10,11,12,13,1,2,3,4,5,6,7,8,9,10,11,12,13,1,2,3,4,5,6,7,8,9,10,11,12,13] if num_cartass==52 else [1,2,3,4,5,6,7,8,9,10,11,12,1,2,3,4,5,6,7,8,9,10,11,12,1,2,3,4,5,6,7,8,9,10,11,12,1,2,3,4,5,6,7,8,9,10,11,12] \n",
        "        suma=0\n",
        "        j=num_cartass - 1                                                   #se establece el límite para quitar una carta aleatoria del mazo\n",
        "        while suma<21:\n",
        "          suma+=carts.pop(random.randint(0,j))                              #quita una carta aleatoria del remaining deck hasta una suma >= 21\n",
        "          num_cartas+=1\n",
        "          j-=1\n",
        "        if suma==21:                                                        #si la suma es igual a 21, se agrega el número de cartas usadas para\n",
        "          total_cartas.append(num_cartas)                                   #llegar a 21 a la lista de total_cartas, y se\n",
        "          prob+=1                                                           #suma 1000 al dinero ganado en la simulacion i\n",
        "          money+=10\n",
        "          vecescold+=1\n",
        "        else:\n",
        "          money-=10                                                         #si la suma no es igual a 21 se resta 1000 al dinero de la simulacion i\n",
        "\n",
        "\n",
        "    sesion += money                                                         #se acumula el dinero de la simulacion i en sesion\n",
        "    \n",
        "\n",
        "  prom = sesion / simul                                                     #promedio de dinero ganado por simulacion\n",
        "  print(\"Dinero ganado/perdido en promedio: \", prom)\n",
        "  print(\"Probabilidad: \",prob/times,\"Promedio de cartas usadas para sumar 21 #:\",sum(total_cartas)/len(total_cartas))\n",
        "  plt.hist(total_cartas,density=True, bins=[0,1,2,3,4,5,6,7])\n",
        "  plt.xlabel('Numero de cartas')\n",
        "  plt.ylabel('Frecuencia')\n",
        "  plt.show()                                                                #distribución de numero de cartas para sumar 21\n",
        "  \n",
        "                                                        "
      ],
      "execution_count": 12,
      "outputs": []
    },
    {
      "cell_type": "markdown",
      "metadata": {
        "id": "ZS6pDlCsAl_f",
        "colab_type": "text"
      },
      "source": [
        "*Ejercicio 5:* Baraja Española"
      ]
    },
    {
      "cell_type": "code",
      "metadata": {
        "id": "2k3X1Ucs7i3I",
        "colab_type": "code",
        "colab": {
          "base_uri": "https://localhost:8080/",
          "height": 313
        },
        "outputId": "bd2b610d-13d4-44a7-da75-2bbfece37a92"
      },
      "source": [
        "main5(48,10000,10)"
      ],
      "execution_count": 13,
      "outputs": [
        {
          "output_type": "stream",
          "text": [
            "Dinero ganado/perdido en promedio:  310.596\n",
            "Probabilidad:  0.21333333333333335 Promedio de cartas usadas para sumar 21 #: 3.703125\n"
          ],
          "name": "stdout"
        },
        {
          "output_type": "display_data",
          "data": {
            "image/png": "[encoded data removed]",
            "text/plain": [
              "<Figure size 432x288 with 1 Axes>"
            ]
          },
          "metadata": {
            "tags": [],
            "needs_background": "light"
          }
        }
      ]
    },
    {
      "cell_type": "markdown",
      "metadata": {
        "id": "FbhYv-V9A7jX",
        "colab_type": "text"
      },
      "source": [
        "*Ejercicio 5:* Poker"
      ]
    },
    {
      "cell_type": "code",
      "metadata": {
        "id": "o71sNDQiA6Ny",
        "colab_type": "code",
        "colab": {
          "base_uri": "https://localhost:8080/",
          "height": 313
        },
        "outputId": "31606be2-a838-4e2f-bfce-accd2a2cb462"
      },
      "source": [
        "main5(52,10000,10)"
      ],
      "execution_count": 14,
      "outputs": [
        {
          "output_type": "stream",
          "text": [
            "Dinero ganado/perdido en promedio:  117.738\n",
            "Probabilidad:  0.20166666666666666 Promedio de cartas usadas para sumar 21 #: 3.479338842975207\n"
          ],
          "name": "stdout"
        },
        {
          "output_type": "display_data",
          "data": {
            "image/png": "[encoded data removed]",
            "text/plain": [
              "<Figure size 432x288 with 1 Axes>"
            ]
          },
          "metadata": {
            "tags": [],
            "needs_background": "light"
          }
        }
      ]
    },
    {
      "cell_type": "markdown",
      "metadata": {
        "id": "7paag_9fBatS",
        "colab_type": "text"
      },
      "source": [
        "**Ejercicio 6**"
      ]
    },
    {
      "cell_type": "markdown",
      "metadata": {
        "id": "3415M7IEDTbg",
        "colab_type": "text"
      },
      "source": [
        "*POKER*\n",
        "*    12 cartas en el mazo restante"
      ]
    },
    {
      "cell_type": "code",
      "metadata": {
        "id": "5q0HJBYXBJcm",
        "colab_type": "code",
        "colab": {
          "base_uri": "https://localhost:8080/",
          "height": 313
        },
        "outputId": "b27dc17c-2ea6-4d0b-e43c-715da148182b"
      },
      "source": [
        "main5(52,10000,12)"
      ],
      "execution_count": 15,
      "outputs": [
        {
          "output_type": "stream",
          "text": [
            "Dinero ganado/perdido en promedio:  -12942.529\n",
            "Probabilidad:  0.17666666666666667 Promedio de cartas usadas para sumar 21 #: 3.443396226415094\n"
          ],
          "name": "stdout"
        },
        {
          "output_type": "display_data",
          "data": {
            "image/png": "[encoded data removed]",
            "text/plain": [
              "<Figure size 432x288 with 1 Axes>"
            ]
          },
          "metadata": {
            "tags": [],
            "needs_background": "light"
          }
        }
      ]
    },
    {
      "cell_type": "markdown",
      "metadata": {
        "id": "94jJhUYnDbgr",
        "colab_type": "text"
      },
      "source": [
        "*    10 cartas en el mazo restante"
      ]
    },
    {
      "cell_type": "code",
      "metadata": {
        "id": "_EtedrpmCO8j",
        "colab_type": "code",
        "colab": {
          "base_uri": "https://localhost:8080/",
          "height": 313
        },
        "outputId": "6bb1d5ad-007e-4b70-ba15-474e773ca064"
      },
      "source": [
        "main5(52,1,10)"
      ],
      "execution_count": 16,
      "outputs": [
        {
          "output_type": "stream",
          "text": [
            "Dinero ganado/perdido en promedio:  -7130.0\n",
            "Probabilidad:  0.15333333333333332 Promedio de cartas usadas para sumar 21 #: 3.4130434782608696\n"
          ],
          "name": "stdout"
        },
        {
          "output_type": "display_data",
          "data": {
            "image/png": "[encoded data removed]",
            "text/plain": [
              "<Figure size 432x288 with 1 Axes>"
            ]
          },
          "metadata": {
            "tags": [],
            "needs_background": "light"
          }
        }
      ]
    },
    {
      "cell_type": "markdown",
      "metadata": {
        "id": "f8U9cOxGI4nV",
        "colab_type": "text"
      },
      "source": [
        "*    8 cartas en el mazo restante"
      ]
    },
    {
      "cell_type": "code",
      "metadata": {
        "id": "ByhBiGS1CVj1",
        "colab_type": "code",
        "colab": {
          "base_uri": "https://localhost:8080/",
          "height": 313
        },
        "outputId": "788b6a8a-40a5-4e9c-fab6-0c833350408f"
      },
      "source": [
        "main5(52,10000,8)"
      ],
      "execution_count": 17,
      "outputs": [
        {
          "output_type": "stream",
          "text": [
            "Dinero ganado/perdido en promedio:  21926.56\n",
            "Probabilidad:  0.215 Promedio de cartas usadas para sumar 21 #: 3.612403100775194\n"
          ],
          "name": "stdout"
        },
        {
          "output_type": "display_data",
          "data": {
            "image/png": "[encoded data removed]",
            "text/plain": [
              "<Figure size 432x288 with 1 Axes>"
            ]
          },
          "metadata": {
            "tags": [],
            "needs_background": "light"
          }
        }
      ]
    },
    {
      "cell_type": "markdown",
      "metadata": {
        "id": "dROCbQ0TI8S-",
        "colab_type": "text"
      },
      "source": [
        "*BARAJA ESPAÑOLA*\n",
        "*    12 cartas en el mazo restante"
      ]
    },
    {
      "cell_type": "code",
      "metadata": {
        "id": "pyUOEAmuCXuq",
        "colab_type": "code",
        "colab": {
          "base_uri": "https://localhost:8080/",
          "height": 313
        },
        "outputId": "e3fa0167-c095-4eba-f288-9360875e8045"
      },
      "source": [
        "main5(48,10000,12)"
      ],
      "execution_count": 18,
      "outputs": [
        {
          "output_type": "stream",
          "text": [
            "Dinero ganado/perdido en promedio:  -12674.473\n",
            "Probabilidad:  0.21666666666666667 Promedio de cartas usadas para sumar 21 #: 3.5923076923076924\n"
          ],
          "name": "stdout"
        },
        {
          "output_type": "display_data",
          "data": {
            "image/png": "[encoded data removed]",
            "text/plain": [
              "<Figure size 432x288 with 1 Axes>"
            ]
          },
          "metadata": {
            "tags": [],
            "needs_background": "light"
          }
        }
      ]
    },
    {
      "cell_type": "markdown",
      "metadata": {
        "id": "J28lcaGxJFoL",
        "colab_type": "text"
      },
      "source": [
        "*    10 cartas en el mazo restante"
      ]
    },
    {
      "cell_type": "code",
      "metadata": {
        "id": "uIQRvOH6CeFm",
        "colab_type": "code",
        "colab": {
          "base_uri": "https://localhost:8080/",
          "height": 313
        },
        "outputId": "f389cd5b-458f-46cd-8e4f-15bed8de8a65"
      },
      "source": [
        "main5(48,10000,10)"
      ],
      "execution_count": 19,
      "outputs": [
        {
          "output_type": "stream",
          "text": [
            "Dinero ganado/perdido en promedio:  302.992\n",
            "Probabilidad:  0.18666666666666668 Promedio de cartas usadas para sumar 21 #: 3.5267857142857144\n"
          ],
          "name": "stdout"
        },
        {
          "output_type": "display_data",
          "data": {
            "image/png": "[encoded data removed]",
            "text/plain": [
              "<Figure size 432x288 with 1 Axes>"
            ]
          },
          "metadata": {
            "tags": [],
            "needs_background": "light"
          }
        }
      ]
    },
    {
      "cell_type": "markdown",
      "metadata": {
        "id": "vHBSbprJJI1v",
        "colab_type": "text"
      },
      "source": [
        "*   8 cartas en el mazo restante"
      ]
    },
    {
      "cell_type": "code",
      "metadata": {
        "id": "kRAe6CRMCfAO",
        "colab_type": "code",
        "colab": {
          "base_uri": "https://localhost:8080/",
          "height": 313
        },
        "outputId": "1bf60382-7141-4166-e50d-9156b7c67190"
      },
      "source": [
        "main5(48,10000,8)"
      ],
      "execution_count": 20,
      "outputs": [
        {
          "output_type": "stream",
          "text": [
            "Dinero ganado/perdido en promedio:  22082.812\n",
            "Probabilidad:  0.22 Promedio de cartas usadas para sumar 21 #: 3.7196969696969697\n"
          ],
          "name": "stdout"
        },
        {
          "output_type": "display_data",
          "data": {
            "image/png": "[encoded data removed]",
            "text/plain": [
              "<Figure size 432x288 with 1 Axes>"
            ]
          },
          "metadata": {
            "tags": [],
            "needs_background": "light"
          }
        }
      ]
    }
  ]
}