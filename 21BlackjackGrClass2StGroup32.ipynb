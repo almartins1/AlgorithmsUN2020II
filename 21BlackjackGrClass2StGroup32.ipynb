{
  "nbformat": 4,
  "nbformat_minor": 0,
  "metadata": {
    "colab": {
      "name": "21BlackjackGrClass2StGroup32.ipynb",
      "provenance": [],
      "collapsed_sections": []
    },
    "kernelspec": {
      "name": "python3",
      "display_name": "Python 3"
    }
  },
  "cells": [
    {
      "cell_type": "markdown",
      "metadata": {
        "id": "MbdY8Hr_lT-G"
      },
      "source": [
        "**LAB 4 Monte Carlo – 21 Blackjack**\n",
        "\n",
        "Grupo 2, Equipo 32\n",
        "*   Alejandro Martin Salcedo\n",
        "*   Juliana Alejandra Nieto Cárdenas\n",
        "*   David Alexander Nuñez Quintero\n",
        "\n",
        "\n",
        "\n"
      ]
    },
    {
      "cell_type": "markdown",
      "metadata": {
        "id": "ZZejcVoV8ozT"
      },
      "source": [
        "Vamos a usar la librería random para obtener aleatoriamente cartas del mazo en cada ejercicio del laboratorio. También haremos uso de la librería pyplot  de matplotlib para la elaboración de los diagramas de distribución"
      ]
    },
    {
      "cell_type": "code",
      "metadata": {
        "id": "nhqSPi3wkU3W"
      },
      "source": [
        "import random\n",
        "import matplotlib.pyplot as plt"
      ],
      "execution_count": 1,
      "outputs": []
    },
    {
      "cell_type": "markdown",
      "metadata": {
        "id": "gzT22F2O8-dN"
      },
      "source": [
        "**Ejercicio 1**"
      ]
    },
    {
      "cell_type": "code",
      "metadata": {
        "id": "q7rKUq8aszp3"
      },
      "source": [
        "def main(num_cartass):                                                      #función para calcular la probabilidad de obtener 21 dependiendo del deck(española o poker)\n",
        "\n",
        "  times=10000000                                                              #número de simulaciones\n",
        "  prob=0                                                                    #almacena el número de veces que obtiene 21\n",
        "  total_cartas=[]                                                           #almacena el número de cartas con las que se obtuvo 21\n",
        "\n",
        "  for i in range(times):\n",
        "    num_cartas=0 \n",
        "\n",
        "                                                                            #carts almacena el deck correspondiente al parametro numero de cartas (52=poker , 48=española)\n",
        "    carts=[1,2,3,4,5,6,7,8,9,10,11,12,13,1,2,3,4,5,6,7,8,9,10,11,12,13,1,2,3,4,5,6,7,8,9,10,11,12,13,1,2,3,4,5,6,7,8,9,10,11,12,13] if num_cartass==52 else [1,2,3,4,5,6,7,8,9,10,11,12,1,2,3,4,5,6,7,8,9,10,11,12,1,2,3,4,5,6,7,8,9,10,11,12,1,2,3,4,5,6,7,8,9,10,11,12] \n",
        "    suma=0\n",
        "    j=num_cartass-1\n",
        "\n",
        "                                                                            #el siguiente while elije cartas aleatorias en el maso hasta que sea mayor o igual a 21\n",
        "    while suma<21:\n",
        "      suma+=carts.pop(random.randint(0,j))\n",
        "      num_cartas+=1\n",
        "      j-=1\n",
        "\n",
        "    if suma==21:\n",
        "      total_cartas.append(num_cartas)                                       #si las cartas elegidas suman 21, el jugador ha ganado y aumentamos la variable contador prob\n",
        "      prob+=1                                                               #guardamos en total cartas, el numero de cartas que fue necesario para obtener 21\n",
        "\n",
        "                                                                            #prob/times retorna la probabilidad de obtener 21 (con el deck español o poker)\n",
        "                                                                            #average es el promedio de cartas que se necesito para obtener  21\n",
        "  deck=\"española\" if num_cartass==48 else \"poker\"\n",
        "  print(\"Baraja: \",deck)\n",
        "  print(\"probabilidad de obtener 21: \",prob/times,\"\\npromedio de cartas:\",sum(total_cartas)/len(total_cartas))\n",
        "\n",
        "                                                                            #acontinuación se realiza el plot del histograma del número de cartas para obtener 21\n",
        "  plt.hist(total_cartas,density=True, bins=max(total_cartas)-min(total_cartas))\n",
        "  plt.xlabel('Numero de cartas')\n",
        "  plt.ylabel('Frecuencia')\n",
        "  plt.title(\"Histograma n° de cartas para obtener 21 en baraja {0}\".format(deck))\n",
        "  plt.show()\n",
        "\n",
        "  "
      ],
      "execution_count": 2,
      "outputs": []
    },
    {
      "cell_type": "markdown",
      "metadata": {
        "id": "O5k_4ik99DzU"
      },
      "source": [
        "*Ejercicio 1:* Baraja Española\n",
        "\n"
      ]
    },
    {
      "cell_type": "code",
      "metadata": {
        "id": "THD772eqs5P8",
        "outputId": "9d4144ae-c51d-4460-860d-c99239008cf8",
        "colab": {
          "base_uri": "https://localhost:8080/",
          "height": 346
        }
      },
      "source": [
        "main(48)"
      ],
      "execution_count": 3,
      "outputs": [
        {
          "output_type": "stream",
          "text": [
            "Baraja:  española\n",
            "probabilidad de obtener 21:  0.1577671 \n",
            "promedio de cartas: 3.4179451862904244\n"
          ],
          "name": "stdout"
        },
        {
          "output_type": "display_data",
          "data": {
            "image/png": "[encoded data removed]",
            "text/plain": [
              "<Figure size 432x288 with 1 Axes>"
            ]
          },
          "metadata": {
            "tags": [],
            "needs_background": "light"
          }
        }
      ]
    },
    {
      "cell_type": "markdown",
      "metadata": {
        "id": "mGgk0NDL9NSE"
      },
      "source": [
        "*Ejercicio 1:* Poker"
      ]
    },
    {
      "cell_type": "code",
      "metadata": {
        "id": "cpCI9wZ5s8Zc",
        "outputId": "c9d0dade-5b46-4e4b-9809-59fd6aa3093b",
        "colab": {
          "base_uri": "https://localhost:8080/",
          "height": 346
        }
      },
      "source": [
        "main(52)"
      ],
      "execution_count": 4,
      "outputs": [
        {
          "output_type": "stream",
          "text": [
            "Baraja:  poker\n",
            "probabilidad de obtener 21:  0.1446401 \n",
            "promedio de cartas: 3.215817743488839\n"
          ],
          "name": "stdout"
        },
        {
          "output_type": "display_data",
          "data": {
            "image/png": "[encoded data removed]",
            "text/plain": [
              "<Figure size 432x288 with 1 Axes>"
            ]
          },
          "metadata": {
            "tags": [],
            "needs_background": "light"
          }
        }
      ]
    },
    {
      "cell_type": "markdown",
      "metadata": {
        "id": "Zf6FSivQ9Rto"
      },
      "source": [
        "**Ejercicio 2**"
      ]
    },
    {
      "cell_type": "code",
      "metadata": {
        "id": "TwoFqohqs9_o"
      },
      "source": [
        "def main2(num_cartass):                                                     #función para calcular la probabilidad de obtener 21 dependiendo del deck(española o poker, cambiando 11,12,13 por 10)\n",
        "\n",
        "  times=10000000                                                              #número de simulaciones\n",
        "  prob=0                                                                    #almacena el número de veces que obtiene 21\n",
        "  total_cartas=[]                                                           #almacena el número de cartas con las que se obtuvo 21\n",
        "\n",
        "  for i in range(times):\n",
        "    num_cartas=0\n",
        "    \n",
        "                                                                            #carts almacena el deck correspondiente al parametro numero de cartas (52=poker , 48=española)\n",
        "    carts=[1,2,3,4,5,6,7,8,9,10,10,10,10,1,2,3,4,5,6,7,8,9,10,10,10,10,1,2,3,4,5,6,7,8,9,10,10,10,10,1,2,3,4,5,6,7,8,9,10,10,10,10] if num_cartass==52 else [1,2,3,4,5,6,7,8,9,10,10,10,1,2,3,4,5,6,7,8,9,10,10,10,1,2,3,4,5,6,7,8,9,10,10,10,1,2,3,4,5,6,7,8,9,10,10,10] \n",
        "    suma=0\n",
        "    j=num_cartass-1\n",
        "\n",
        "    while suma<21:                                                          #elije cartas aleatorias en el maso hasta que sea mayor o igual a 21 \n",
        "      suma+=carts.pop(random.randint(0,j))\n",
        "      num_cartas+=1\n",
        "      j-=1\n",
        "\n",
        "    if suma==21:\n",
        "      total_cartas.append(num_cartas)                                       #si las cartas elegidas suman 21, el jugador ha ganado y aumentamos la variable contador prob\n",
        "      prob+=1                                                               #guardamos en total cartas, el numero de cartas que fue necesario para obtener 21\n",
        "  \n",
        "  \n",
        "                                                                            #prob/times retorna la probabilidad de obtener 21 (con el deck español o poker)\n",
        "                                                                            #promedio de cartas es el promedio de cartas que se necesito para obtener  21\n",
        "  deck=\"española\" if num_cartass==48 else \"poker\"\n",
        "  print(\"Baraja: \",deck)\n",
        "  print(\"probabilidad de obtener 21: \",prob/times,\"\\npromedio de cartas:\",sum(total_cartas)/len(total_cartas))\n",
        "  \n",
        "                                                                            #acontinuación se realiza el plot del histograma del número de cartas para obtener 21\n",
        "  plt.hist(total_cartas,density=True, bins=max(total_cartas)-min(total_cartas))\n",
        "  plt.xlabel('Numero de cartas')\n",
        "  plt.ylabel('Frecuencia')\n",
        "  plt.title(\"Histograma n° de cartas para obtener 21 en baraja {0}\".format(deck))\n",
        "  plt.show()\n",
        "\n"
      ],
      "execution_count": 5,
      "outputs": []
    },
    {
      "cell_type": "markdown",
      "metadata": {
        "id": "00Ct0RiV9XpT"
      },
      "source": [
        "*Ejercicio 2:* Baraja Española"
      ]
    },
    {
      "cell_type": "code",
      "metadata": {
        "id": "hpF-pqQOtGRc",
        "outputId": "836e013f-3323-4f37-893b-145440eef2d1",
        "colab": {
          "base_uri": "https://localhost:8080/",
          "height": 346
        }
      },
      "source": [
        "main2(48)"
      ],
      "execution_count": 6,
      "outputs": [
        {
          "output_type": "stream",
          "text": [
            "Baraja:  española\n",
            "probabilidad de obtener 21:  0.1496105 \n",
            "promedio de cartas: 3.6983901530975434\n"
          ],
          "name": "stdout"
        },
        {
          "output_type": "display_data",
          "data": {
            "image/png": "[encoded data removed]",
            "text/plain": [
              "<Figure size 432x288 with 1 Axes>"
            ]
          },
          "metadata": {
            "tags": [],
            "needs_background": "light"
          }
        }
      ]
    },
    {
      "cell_type": "code",
      "metadata": {
        "id": "O3mZIFtStHal",
        "outputId": "eb149940-1379-4a14-facf-d2801976c73c",
        "colab": {
          "base_uri": "https://localhost:8080/",
          "height": 346
        }
      },
      "source": [
        "main2(52)"
      ],
      "execution_count": 7,
      "outputs": [
        {
          "output_type": "stream",
          "text": [
            "Baraja:  poker\n",
            "probabilidad de obtener 21:  0.1399826 \n",
            "promedio de cartas: 3.5766330958276242\n"
          ],
          "name": "stdout"
        },
        {
          "output_type": "display_data",
          "data": {
            "image/png": "[encoded data removed]",
            "text/plain": [
              "<Figure size 432x288 with 1 Axes>"
            ]
          },
          "metadata": {
            "tags": [],
            "needs_background": "light"
          }
        }
      ]
    },
    {
      "cell_type": "markdown",
      "metadata": {
        "id": "yxYmPn7Fci1Q"
      },
      "source": [
        "*Ejercicio 3:* Baraja Poker"
      ]
    },
    {
      "cell_type": "code",
      "metadata": {
        "id": "sm0h02uYtMmh"
      },
      "source": [
        "#Ejercicio 3 v3 Eliminado aleatorio de cartas\n",
        "\n",
        "def main3(num_cartass):                                                      #Aqui escojemos si utilizamos el mazo español(48) o el mazo de poker(52)\n",
        "  times=10000000                                                              #El numero de juegos simulados\n",
        "  prob=0\n",
        "  total_cartas=[]\n",
        "  num_cartas=3                                                                #acontinuación formamos nuestro deck de la simulación\n",
        "  carts_deck=[1,2,3,4,5,6,7,8,9,10,10,10,10,1,2,3,4,5,6,7,8,9,10,10,10,10,1,2,3,4,5,6,7,8,9,10,10,10,10,1,2,3,4,5,6,7,8,9,10,10,10,10] if num_cartass==52 else [1,2,3,4,5,6,7,8,9,10,10,10,1,2,3,4,5,6,7,8,9,10,10,10,1,2,3,4,5,6,7,8,9,10,10,10,1,2,3,4,5,6,7,8,9,10,10,10] \n",
        "  carts_deck.remove(7)                                                         #Removemos 7, 7 y 5 ya que esas cartas las tenemos ya\n",
        "  carts_deck.remove(7)\n",
        "  carts_deck.remove(5)\n",
        "  n = num_cartass - 3\n",
        "  while n > num_cartass/2:                                                #Eliminamos hasta la mitad del mazo aleatoriamente\n",
        "      carts_deck.pop(random.randint(0,n-1))\n",
        "      n -= 1\n",
        "  print(\"baraja: \",carts_deck)\n",
        "  for i in range(times):\n",
        "    carts=list(carts_deck)\n",
        "    num_cartas=3\n",
        "    suma=19      \n",
        "                                                            #La suma de 7, 7 y 5 es 19\n",
        "    j=num_cartass/2 - 1\n",
        "       \n",
        "    while suma<21:                                                          #Sacamos cartas del mazo restante y miramos si da blackjack\n",
        "      suma+=carts.pop(random.randint(0,j))\n",
        "      num_cartas+=1\n",
        "      j-=1\n",
        "    if suma==21:                                                            #Si da blackjack se ingresa el numero de cartas que se necesitan para encontrarlo en una lista creada anteriormente\n",
        "      total_cartas.append(num_cartas)\n",
        "      prob+=1\n",
        "  deck=\"española\" if num_cartass==48 else \"poker\"\n",
        "  print(\"Baraja: \",deck)\n",
        "  print(\"probabilidad: \",prob/times,\" \\naverage #:\",sum(total_cartas)/len(total_cartas))\n",
        "  plt.hist(total_cartas,density=True, bins=[4,5,6])                         #Aqui se hace el histograma de cuantas cartas se necesitan para hacer un blackjack\n",
        "  plt.xlabel('Numero de cartas')\n",
        "\n",
        "  plt.ylabel('Frecuencia')\n",
        "  plt.title(\"Histograma n° de cartas para obtener 21 en baraja {0}\".format(deck))\n",
        "  plt.show()\n",
        "  "
      ],
      "execution_count": 8,
      "outputs": []
    },
    {
      "cell_type": "code",
      "metadata": {
        "id": "TD6anmYqFrd9",
        "outputId": "5123ee9b-83b5-46b8-ebfb-c6ce0aad70d2",
        "colab": {
          "base_uri": "https://localhost:8080/",
          "height": 363
        }
      },
      "source": [
        "main3(52)"
      ],
      "execution_count": 9,
      "outputs": [
        {
          "output_type": "stream",
          "text": [
            "baraja:  [1, 3, 4, 6, 9, 10, 1, 2, 3, 4, 9, 10, 10, 10, 1, 6, 8, 9, 10, 10, 4, 7, 8, 9, 10, 10]\n",
            "Baraja:  poker\n",
            "probabilidad:  0.0477318  \n",
            "average #: 4.1941221575553405\n"
          ],
          "name": "stdout"
        },
        {
          "output_type": "display_data",
          "data": {
            "image/png": "[encoded data removed]",
            "text/plain": [
              "<Figure size 432x288 with 1 Axes>"
            ]
          },
          "metadata": {
            "tags": [],
            "needs_background": "light"
          }
        }
      ]
    },
    {
      "cell_type": "code",
      "metadata": {
        "id": "hydCY8wkFw5T",
        "outputId": "f5818b18-a1b0-422c-a799-8b12a6a567c7",
        "colab": {
          "base_uri": "https://localhost:8080/",
          "height": 363
        }
      },
      "source": [
        "main3(48)"
      ],
      "execution_count": 10,
      "outputs": [
        {
          "output_type": "stream",
          "text": [
            "baraja:  [4, 6, 8, 9, 10, 1, 2, 3, 4, 8, 10, 3, 4, 5, 7, 10, 10, 1, 4, 6, 7, 10, 10, 10]\n",
            "Baraja:  española\n",
            "probabilidad:  0.0453038  \n",
            "average #: 4.080158838772906\n"
          ],
          "name": "stdout"
        },
        {
          "output_type": "display_data",
          "data": {
            "image/png": "[encoded data removed]",
            "text/plain": [
              "<Figure size 432x288 with 1 Axes>"
            ]
          },
          "metadata": {
            "tags": [],
            "needs_background": "light"
          }
        }
      ]
    },
    {
      "cell_type": "markdown",
      "metadata": {
        "id": "ESSDvtFL4M_z"
      },
      "source": [
        "**Ejercicio 4**<br>\n",
        "Cálculo analítico de probabilidades:<br>\n",
        "Se tienen las cartas [7,7,5] y un mazo restante con 10 cartas que puede ser cold deck o hot deck.\n",
        "*    Si es *cold deck*, nuestro mazo restante tiene sólo una carta de valor 2\n",
        "y la probabilidad de sacar aleatoriamente una carta y sumar 21 es de 1/10 = 0.1.\n",
        "*    Si es *hot deck*, nuestro mazo tiene todas las instancias de 1 y 2 posibles de nuestro juego poker o español, es decir, el mazo restante sería de esta forma:\n",
        "[1, 1, 1, 1, 2, 2, 2, 2, x, y] donde x,y son cartas aleatorias del juego con valor mayor a 2. Luego sumar 21 se puede conseguir sacando [1,1] o [2]. Así la probabilidad es (2/5)*(3/9)+(2/5) = 0.5333"
      ]
    },
    {
      "cell_type": "code",
      "metadata": {
        "id": "gsDu6xSs6g8t",
        "outputId": "da7e225b-a051-4741-e030-b1657a83d05e",
        "colab": {
          "base_uri": "https://localhost:8080/",
          "height": 330
        }
      },
      "source": [
        "#ejercicio 4\n",
        "def main4(number,rem):                                                      #función para obtener la probabilidad de obtener 21 con un hot deck o un cold deck\n",
        "  \n",
        "  hot = 0                                                                   #número de 21's con un hot deck\n",
        "  cold = 0                                                                  #número de 21's con el cold deck con la menor probabilidad\n",
        "  cold2=0                                                                   #número de 21's con el cold deck (2 opción)\n",
        "  disthot = []                                                              #almacena el número de cartas que se necesito para obtener 21 en un hot deck\n",
        "  distcold = []                                                             #almacena el número de cartas que se necesito para obtener 21 en un cold deck\n",
        "                                                                            #almacena el número de cartas que se necesito para obtener 21 en un cold deck(2 opción)\n",
        "\n",
        "  \n",
        "  for k in range(10000000):                                                   #acontinuacion se ejecutan las simulaciones\n",
        "\n",
        "                                                                            #monto que tiene el jugador al inicio (sum,sum_cold,sum_cold2):\n",
        "    sum = 19                              \n",
        "    sum_cold=19\n",
        "    \n",
        "    cards = [7,7,5]                 \n",
        "    h_count=3                                                               #n° de cartas que se ha sacado en el hot deck\n",
        "    c_count=3                                                               #n° de cartas que se ha sacado en el cold deck\n",
        "                                                                  #n° de cartas que se ha sacado en el cold deck(2 opcion)\n",
        "\n",
        "                                                                            #respectivos decks:\n",
        "    deck_hot =[1,2,1,2,1,2,1,2,3,3]       \n",
        "    deck_cold=[3,4,6,8,9,10,11,12,7,3] \n",
        "    \n",
        "    \n",
        "    while sum <21:                                                          #los while acontinuacion eligen al azar una carta del maso hasta que el monto supere 21\n",
        "      card = deck_hot.pop(random.randint(0,len(deck_hot)-1))\n",
        "      sum+=card   \n",
        "      h_count+=1  \n",
        "    while sum_cold <21:\n",
        "      card = deck_cold.pop(random.randint(0,len(deck_cold)-1))\n",
        "      sum_cold+=card \n",
        "      c_count+=1 \n",
        "    \n",
        "\n",
        "                                                                            #acontinuación si el monto es igual a 21, se aumenta la probabilidad en cada uno de los respectivos casos\n",
        "                                                                            #además se añade a la respectiva lista el número de cartas con la que se obtuvo 21\n",
        "    if sum == 21:\n",
        "      hot+=1\n",
        "      disthot.append(h_count)\n",
        "    if sum_cold == 21:\n",
        "      cold+=1\n",
        "      discold.append(c_count)\n",
        "    \n",
        "      \n",
        "  print(\"Probabilidad del hot deck: \" ,hot/100000)\n",
        "  print(\"Probabilidad del cold deck 1: \",cold/100000)\n",
        "  \n",
        "  aaa = plt.hist(disthot,density=True, bins=[0,1,2,3,4,5,6,7], alpha= 0.5, label=\"Hot deck\")\n",
        "  \n",
        "  #bbb = plt.hist(distcold,density=True, bins=[0,1,2,3,4,5,6,7], alpha= 0.5)\n",
        "  \n",
        "  \n",
        "  plt.legend()\n",
        "  plt.xlabel('Numero de cartas')\n",
        "  plt.ylabel('Frecuencia')\n",
        "  plt.show();\n",
        "  print(\"No se puede graficar la distribucion para el Cold Deck\")\n",
        "main4(48,10)"
      ],
      "execution_count": 11,
      "outputs": [
        {
          "output_type": "stream",
          "text": [
            "Probabilidad del hot deck:  53.29515\n",
            "Probabilidad del cold deck 1:  0.0\n"
          ],
          "name": "stdout"
        },
        {
          "output_type": "display_data",
          "data": {
            "image/png": "[encoded data removed]",
            "text/plain": [
              "<Figure size 432x288 with 1 Axes>"
            ]
          },
          "metadata": {
            "tags": [],
            "needs_background": "light"
          }
        },
        {
          "output_type": "stream",
          "text": [
            "No se puede graficar la distribucion para el Cold Deck\n"
          ],
          "name": "stdout"
        }
      ]
    },
    {
      "cell_type": "markdown",
      "metadata": {
        "id": "YNCGsgvt6uYx"
      },
      "source": [
        "**Ejercicio 5**"
      ]
    },
    {
      "cell_type": "code",
      "metadata": {
        "id": "wKty6sgA6wJ-"
      },
      "source": [
        "\n",
        "def main5(num_cartass, simul,r,diez):                                            #num_cartass 52 = POKER, 48 = ESPAÑOLA; \n",
        "                                                                            #simul = numero de simulaciones (1 simulación es un fin de semana);\n",
        "                                                                            #r = numero de cartas en el remaining deck\n",
        "\n",
        "                                                                            #acontinuación se determina el maso correspondiente poker o española, y el tipo de maso si con solo 10es o normal\n",
        "  if num_cartass==52:                                                              \n",
        "    carts_st=[1,2,3,4,5,6,7,8,9,10,11,12,13,1,2,3,4,5,6,7,8,9,10,11,12,13,1,2,3,4,5,6,7,8,9,10,11,12,13,1,2,3,4,5,6,7,8,9,10,11,12,13] \n",
        "  else:\n",
        "    carts_st= [1,2,3,4,5,6,7,8,9,10,11,12,1,2,3,4,5,6,7,8,9,10,11,12,1,2,3,4,5,6,7,8,9,10,11,12,1,2,3,4,5,6,7,8,9,10,11,12] \n",
        "\n",
        "  if diez:\n",
        "      for w in carts_st:\n",
        "        if w in [11,12,13]:\n",
        "          carts_st[carts_st.index(w)]=10\n",
        "\n",
        "    \n",
        "  sesion = 0                                                                #dinero total de simulaciones\n",
        "  for i in range(simul):\n",
        "    times=600                                                               #juegos por fin de semana\n",
        "    prob=0\n",
        "    total_cartas=[]\n",
        "    money = 0                                                               #dinero en la simulacion i\n",
        "    veceshot = 0\n",
        "    vecescold = 0\n",
        "    \n",
        "    for i in range(times):\n",
        "      q = random.randint(1,10)                                              #determina que deck corresponde en la simulacion i, hot deck o cold deck, \n",
        "                                                                            #de acuerdo a la probabilidad de 1/10 de un hot deck planteada en el ejercicio\n",
        "\n",
        "      if(q == 1):                                                           #HOT DECK\n",
        "        num_cartas = 3\n",
        "        if r == 8:                                                          #j establece el límite para quitar una carta aleatoria del mazo\n",
        "          carts = [1,2,1,2,1,2,1,2]\n",
        "          j = 7\n",
        "        elif r == 10:\n",
        "          carts = [1,2,1,2,1,2,1,2,3,3]\n",
        "          j = 9\n",
        "        else:\n",
        "          carts = [1,2,1,2,1,2,1,2,3,3,3,3]\n",
        "          j = 11\n",
        "        suma = 19\n",
        "        \n",
        "        while suma<21:\n",
        "          suma+=carts.pop(random.randint(0,j))                              #quita una carta aleatoria del remaining deck hasta una suma >= 21\n",
        "          num_cartas+=1\n",
        "          j-=1\n",
        "        if suma==21:\n",
        "          total_cartas.append(num_cartas)                                   #si la suma es igual a 21, se agrega el número de cartas usadas para\n",
        "          prob+=1                                                           #llegar a 21 a la lista de total_cartas, y se\n",
        "          money+=1000                                                       #suma 1000 al dinero ganado en la simulacion i\n",
        "          veceshot+=1\n",
        "          \n",
        "        else:\n",
        "          money-=1000                                                       #si la suma no es igual a 21 se resta 1000 al dinero de la simulacion i\n",
        "\n",
        "\n",
        "\n",
        "      else:                                                                 #COLD DECK\n",
        "        num_cartas=0                                                        #se comienza con cero cartas y el mazo completo como el cold deck\n",
        "        carts=list(carts_st)                                              \n",
        "        \n",
        "        suma=0\n",
        "        j=num_cartass - 1                                                   #se establece el límite para quitar una carta aleatoria del mazo\n",
        "        while suma<21:\n",
        "          suma+=carts.pop(random.randint(0,j))                              #quita una carta aleatoria del remaining deck hasta una suma >= 21\n",
        "          num_cartas+=1\n",
        "          j-=1\n",
        "        if suma==21:                                                        #si la suma es igual a 21, se agrega el número de cartas usadas para\n",
        "          total_cartas.append(num_cartas)                                   #llegar a 21 a la lista de total_cartas, y se\n",
        "          prob+=1                                                           #suma 1000 al dinero ganado en la simulacion i\n",
        "          money+=10\n",
        "          vecescold+=1\n",
        "        else:\n",
        "          money-=10                                                         #si la suma no es igual a 21 se resta 1000 al dinero de la simulacion i\n",
        "\n",
        "\n",
        "    sesion += money                                                         #se acumula el dinero de la simulacion i en sesion\n",
        "    \n",
        "\n",
        "  prom = sesion / simul                                                     #promedio de dinero ganado por simulacion\n",
        "  print(\"Dinero ganado/perdido en promedio: \", prom)\n",
        "  print(\"Probabilidad: \",prob/times,\"Promedio de cartas usadas para sumar 21 #:\",sum(total_cartas)/len(total_cartas))\n",
        "  plt.hist(total_cartas,density=True, bins=[0,1,2,3,4,5,6,7])\n",
        "  plt.xlabel('Numero de cartas')\n",
        "  plt.ylabel('Frecuencia')\n",
        "  plt.show()                                                                #distribución de numero de cartas para sumar 21\n",
        "  \n",
        "                                                        "
      ],
      "execution_count": 12,
      "outputs": []
    },
    {
      "cell_type": "markdown",
      "metadata": {
        "id": "ZS6pDlCsAl_f"
      },
      "source": [
        "*Ejercicio 5:* Baraja Española"
      ]
    },
    {
      "cell_type": "code",
      "metadata": {
        "id": "2k3X1Ucs7i3I",
        "outputId": "3a85d6cf-45f9-467a-ad26-1f0852c478b6",
        "colab": {
          "base_uri": "https://localhost:8080/",
          "height": 315
        }
      },
      "source": [
        "main5(48,10000,10,1)"
      ],
      "execution_count": 17,
      "outputs": [
        {
          "output_type": "stream",
          "text": [
            "Dinero ganado/perdido en promedio:  200.831\n",
            "Probabilidad:  0.18166666666666667 Promedio de cartas usadas para sumar 21 #: 3.981651376146789\n"
          ],
          "name": "stdout"
        },
        {
          "output_type": "display_data",
          "data": {
            "image/png": "[encoded data removed]",
            "text/plain": [
              "<Figure size 432x288 with 1 Axes>"
            ]
          },
          "metadata": {
            "tags": [],
            "needs_background": "light"
          }
        }
      ]
    },
    {
      "cell_type": "markdown",
      "metadata": {
        "id": "FbhYv-V9A7jX"
      },
      "source": [
        "*Ejercicio 5:* Poker"
      ]
    },
    {
      "cell_type": "code",
      "metadata": {
        "id": "VMI9rIkKvwLD",
        "outputId": "743f7735-fd1b-4fe9-8270-e0949c5763bd",
        "colab": {
          "base_uri": "https://localhost:8080/",
          "height": 315
        }
      },
      "source": [
        "main5(52,10000,10,1)"
      ],
      "execution_count": 19,
      "outputs": [
        {
          "output_type": "stream",
          "text": [
            "Dinero ganado/perdido en promedio:  100.725\n",
            "Probabilidad:  0.18 Promedio de cartas usadas para sumar 21 #: 3.8425925925925926\n"
          ],
          "name": "stdout"
        },
        {
          "output_type": "display_data",
          "data": {
            "image/png": "[encoded data removed]",
            "text/plain": [
              "<Figure size 432x288 with 1 Axes>"
            ]
          },
          "metadata": {
            "tags": [],
            "needs_background": "light"
          }
        }
      ]
    },
    {
      "cell_type": "markdown",
      "metadata": {
        "id": "7paag_9fBatS"
      },
      "source": [
        "**Ejercicio 6**"
      ]
    },
    {
      "cell_type": "markdown",
      "metadata": {
        "id": "nEc4uhN9i3s3"
      },
      "source": [
        "**Probabilidad analítica**\n"
      ]
    },
    {
      "cell_type": "code",
      "metadata": {
        "id": "Lartdw8ti9qe",
        "outputId": "7c1f05e3-4900-4c92-b275-83d482b8e334",
        "colab": {
          "base_uri": "https://localhost:8080/",
          "height": 51
        }
      },
      "source": [
        "\"\"\"\n",
        "-son 600 partidas que Ben juega en un fin de semana, y tiene probabilidad de 1/10 de obtener un hot deck, es decir probablemente\n",
        "en 60 juegos tenga un hot deck, como cada hot deck tiene probabilidad de 0.53335 de ganar según el punto 4, entonces se tiene lo siguiente:\n",
        "\"\"\"\n",
        "ganancia=60*0.5332263*1000\n",
        "perdida=60*(1-0.5332263)*1000\n",
        "total_ganancia_hot_deck=ganancia-perdida\n",
        "\"\"\"\n",
        "Ahora miremos cuanto gana o pierde Ben cuando tiene un cold deck, como la probabilidad de un cold deck es de 9/10, entonces en 540 partidas Ben tiene un cold deck.\n",
        "como la probabilidad de ganar con un cold deck con 4 10's  es de 0.1399473  (Baraja Poker), se tiene lo siguiente:\n",
        "\"\"\"\n",
        "ganancia_cold=540*0.1401321 *10\n",
        "perdida_cold=540*(1-0.1401321 )*10\n",
        "total_ganancia_cold=ganancia_cold-perdida_cold\n",
        "\n",
        "total_ganado=total_ganancia_cold+total_ganancia_hot_deck\n",
        "print(\"Ben gana a la semana en promedio jugando con baraja poker: {0}\".format(total_ganado))\n",
        "\n",
        "\"\"\"\n",
        "Acontinuación sucede lo mismo con la baraja Española con 10's la cual en un cold deck tiene probabilidad 0.1497552 de obtener 21\n",
        "\"\"\"\n",
        "ganancia_e=60*0.5332263*1000\n",
        "perdida_e=60*(1-0.5332263)*1000\n",
        "total_ganancia_hot_deck_e=ganancia_e-perdida_e\n",
        "\n",
        "ganancia_cold_e=540*0.1497552  *10\n",
        "perdida_cold_e=540*(1-0.1497552  )*10\n",
        "total_ganancia_cold_e=ganancia_cold_e-perdida_cold_e\n",
        "\n",
        "total_ganado_e=total_ganancia_cold_e+total_ganancia_hot_deck_e\n",
        "print(\"Ben gana a la semana en promedio jugando con baraja Española: {0}\".format(total_ganado_e))"
      ],
      "execution_count": 20,
      "outputs": [
        {
          "output_type": "stream",
          "text": [
            "Ben gana a la semana en promedio jugando con baraja poker: 100.58268000000317\n",
            "Ben gana a la semana en promedio jugando con baraja Española: 204.51216000000204\n"
          ],
          "name": "stdout"
        }
      ]
    },
    {
      "cell_type": "markdown",
      "metadata": {
        "id": "NseUvSX_odo3"
      },
      "source": [
        "**Ejercicio 7**"
      ]
    },
    {
      "cell_type": "markdown",
      "metadata": {
        "id": "uul26lI52PXC"
      },
      "source": [
        "*Versión 1*"
      ]
    },
    {
      "cell_type": "code",
      "metadata": {
        "id": "wNozIawCge9d",
        "outputId": "73cd7802-9ec2-45da-cbae-f06979ec84bf",
        "colab": {
          "base_uri": "https://localhost:8080/",
          "height": 68
        }
      },
      "source": [
        "\"\"\" \n",
        "Primero hay que calcular la probabilidad de sacar el hot deck.\n",
        "Entonces si nuestro hot deck es de 12 o 10 cartas (+3), tendremos 4 o 2 cartas que sean diferentes del hot deck (1,1,1,1,2,2,2,2) y de (7,7,5) respectivamente \n",
        "(si el hot deck es de 8 no hay cartas libres ya que serían 4 unos y 4 dos)\n",
        "\n",
        "#(Hot deck 12 cartas)\n",
        "Doce_L_Poker = (41*40*39*38)/(52*51*50*49)\n",
        "Doce_L_Esp =  (37*36*35*34)/(48*47*46*45)\n",
        "\n",
        "#(Hot deck 10 cartas)\n",
        "Diez_L_Poker = (41*40)/(52*51)\n",
        "Diez_L_Esp (37*36)/(48*47)\n",
        "\n",
        "Ahora veamos que para tener el hot deck restante, primero saquemos los 2 sietes y el cinco, recordemos que existen 4 sietes y 4 cincos,\n",
        "entonces la probabilidad de sacar los sietes el cinco estaría dada por (Teniendo en cuenta el conteo de cartas total):\n",
        "\n",
        "#(Hot deck 12 cartas)\n",
        "Poker = (4*4*3)/(47*46*45)\n",
        "Esp = (4*4*3)/(44*43*42) \n",
        "\n",
        "#(Hot deck 10 cartas)\n",
        "Poker = (4*4*3)/(50*49*48)\n",
        "Esp = (4*4*3)/(46*45*44)\n",
        "\n",
        "#(Hot deck 8 cartas)\n",
        "Poker = (4*4*3)/(52*51*50)\n",
        "Esp = (4*4*3)/(48*47*46)\n",
        "\n",
        "\n",
        "Ahora tenemos que sacar los 4 unos y 4 dos para completar el hot deck, la probabilidad de sacar estos es de (Teniendo en cuenta el conteo de cartas total):\n",
        "\n",
        "#(Hot deck 12 cartas)\n",
        "Poker = (8*7*6*5*4*3*2*1*3*2*1)/(45*44*43*42*41*40*39*38)\n",
        "Esp = (8*7*6*5*4*3*2*1*3*2*1)/(41*40*39*38*37*36*35*34)\n",
        "\n",
        "#(Hot deck 10 cartas)\n",
        "Poker = (8*7*6*5*4*3*2*1*3*2*1)/(47*46*45*44*43*42*41*40)\n",
        "Esp = (8*7*6*5*4*3*2*1*3*2*1)/(43*42*41*40*39*38*37*36)\n",
        "\n",
        "#(Hot deck 8 cartas)\n",
        "Poker = (8*7*6*5*4*3*2*1*3*2*1)/(49*48*47*46*45*44*43*42)\n",
        "Esp = (8*7*6*5*4*3*2*1*3*2*1)/(45*44*43*42*41*40*39*38)\n",
        "\n",
        "\n",
        "Ya teniendo el hot deck nos falta analizar la probabilidad de obtener 7, 7, 5 en este la probabilidad será la misma en la baraja española y la de poker\n",
        "esta probabilidad sería de:\n",
        "\n",
        "#(Hot deck 12 cartas)\n",
        "Doce_H = (3*2*1)/(15*14*13)\n",
        "\n",
        "#(Hot deck 10 cartas)\n",
        "Diez_H = (3*2*1)/(13*12*11)\n",
        "\n",
        "#(Hot deck 8 cartas)\n",
        "Ocho_H = (3*2*1)/(11*10*9)\n",
        "\n",
        "\n",
        "Ahora multiplicando cada probabilidad obtenemos la respuesta al ejercicio:\n",
        "\"\"\"\n",
        "\n",
        "print(\"La probabilidad del ejercicio 7 con baraja de poker y 12 cartas en el hot deck es de: \", (41*40*39*38*4*4*3*8*7*6*5*4*3*2*1*3*2*1)/(52*51*50*49*48*47*46*45*44*43*42*41*40*39*38*15*14*13))\n",
        "print(\"La probabilidad del ejercicio 7 con baraja de poker y 10 cartas en el hot deck es de: \", (41*40*4*4*3*8*7*6*5*4*3*2*1*3*2*1)/(52*51*50*49*48*47*46*45*44*43*42*41*40*13*12*11))\n",
        "print(\"La probabilidad del ejercicio 7 con baraja de poker y 8 cartas en el hot deck es de: \", (4*4*3*8*7*6*5*4*3*2*1*3*2*1)/(52*51*50*49*48*47*46*45*44*43*42*11*10*9))\n"
      ],
      "execution_count": 21,
      "outputs": [
        {
          "output_type": "stream",
          "text": [
            "La probabilidad del ejercicio 7 con baraja de poker y 12 cartas en el hot deck es de:  1.7641312648490222e-15\n",
            "La probabilidad del ejercicio 7 con baraja de poker y 10 cartas en el hot deck es de:  2.8065724668052625e-15\n",
            "La probabilidad del ejercicio 7 con baraja de poker y 8 cartas en el hot deck es de:  4.864725609129122e-15\n"
          ],
          "name": "stdout"
        }
      ]
    },
    {
      "cell_type": "markdown",
      "metadata": {
        "id": "R0_Rn8M82R9u"
      },
      "source": [
        "*Versión 2*"
      ]
    },
    {
      "cell_type": "code",
      "metadata": {
        "id": "38vmnX9mgdD4",
        "outputId": "5e25c8dc-c63e-40ce-fb84-40a843f57eba",
        "colab": {
          "base_uri": "https://localhost:8080/",
          "height": 68
        }
      },
      "source": [
        "\"\"\"\n",
        "En esta otra version del ejercicio 7, elegimos cada carta como si fuera unica, por lo tanto se tomaria cada carta con probabilidad 1/n con n siendo el numero restante de cartas\n",
        "\"\"\"\n",
        "print(\"La probabilidad del ejercicio 7 con baraja de poker y 12 cartas en el hot deck es de: \", (1)/(52*51*50*49*48*47*46*45*44*43*42*15*14*13))\n",
        "print(\"La probabilidad del ejercicio 7 con baraja de poker y 10 cartas en el hot deck es de: \", (1)/(52*51*50*49*48*47*46*45*44*43*42*13*12*11))\n",
        "print(\"La probabilidad del ejercicio 7 con baraja de poker y 8 cartas en el hot deck es de: \", (1)/(52*51*50*49*48*47*46*45*44*43*42*11*10*9))"
      ],
      "execution_count": 22,
      "outputs": [
        {
          "output_type": "stream",
          "text": [
            "La probabilidad del ejercicio 7 con baraja de poker y 12 cartas en el hot deck es de:  1.5192102630768282e-22\n",
            "La probabilidad del ejercicio 7 con baraja de poker y 10 cartas en el hot deck es de:  2.416925418531318e-22\n",
            "La probabilidad del ejercicio 7 con baraja de poker y 8 cartas en el hot deck es de:  4.1893373921209507e-22\n"
          ],
          "name": "stdout"
        }
      ]
    },
    {
      "cell_type": "markdown",
      "metadata": {
        "id": "jnwHEUeW2U94"
      },
      "source": [
        "*Versión 3*"
      ]
    },
    {
      "cell_type": "code",
      "metadata": {
        "id": "SWiZZp3eJrDC",
        "outputId": "83e570bc-815c-41ac-e101-ceeb3782d251",
        "colab": {
          "base_uri": "https://localhost:8080/",
          "height": 68
        }
      },
      "source": [
        "\"\"\"\n",
        "En esta tercera versión del ejercicio 7, calculamos la probabilidad de sacar las cartas [1,1,1,1,2,2,2,2]\n",
        "Y luego la multiplicamos por 52 combinado n donde n es el número de cartas \"extra\" que puedo tomar en cada caso,\n",
        "por ejemplo, en 8 son 0 cartas extra, en 10 son 2 cartas extra y en 12 son 4 cartas extra\n",
        "\"\"\"\n",
        "\n",
        "\"\"\"probabilidad de obtener [1,1,1,1,2,2,2,2] sacando 8 cartas del deck\"\"\"\n",
        "c = (4*4*3*8*7*6*5*4*3*2*1*3*2*1)/(52*51*50*49*48*47*46*45*44*43*42*11*10*9) \n",
        "ocho_s = (4/44)*(3/43)*(4/42)\n",
        "\"\"\"probabilidad de obtener [1,1,1,1,2,2,2,2] sacando 12 cartas del deck, que\n",
        "es la probabilidad anterior multiplicado por 48 combinado 4\"\"\"\n",
        "doce = c*135771\n",
        "doce_s = (4/40)*(3/39)*(4/38)\n",
        "\"\"\"probabilidad de obtener [1,1,1,1,2,2,2,2] sacando 10 cartas del deck, que\n",
        "es la probabilidad anterior multiplicado por 48 combinado 2\"\"\"\n",
        "diez = c*946\n",
        "diez_s = (4/42)*(3/41)*(4/40)\n",
        "\n",
        "print(\"La probabilidad del ejercicio 7 con baraja de poker y 12 cartas en el hot deck es de: \",doce*doce_s)\n",
        "print(\"La probabilidad del ejercicio 7 con baraja de poker y 10 cartas en el hot deck es de: \",diez*diez_s)\n",
        "print(\"La probabilidad del ejercicio 7 con baraja de poker y 8 cartas en el hot deck es de: \",ocho*ocho_s)"
      ],
      "execution_count": 24,
      "outputs": [
        {
          "output_type": "stream",
          "text": [
            "La probabilidad del ejercicio 7 con baraja de poker y 12 cartas en el hot deck es de:  5.348086321271822e-13\n",
            "La probabilidad del ejercicio 7 con baraja de poker y 10 cartas en el hot deck es de:  3.206989844067003e-15\n",
            "La probabilidad del ejercicio 7 con baraja de poker y 8 cartas en el hot deck es de:  2.9385234727448637e-18\n"
          ],
          "name": "stdout"
        }
      ]
    },
    {
      "cell_type": "code",
      "metadata": {
        "id": "SljKKnNh1s-F"
      },
      "source": [
        ""
      ],
      "execution_count": null,
      "outputs": []
    }
  ]
}