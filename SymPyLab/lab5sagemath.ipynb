{
 "cells": [
  {
   "cell_type": "code",
   "execution_count": 1,
   "metadata": {
    "collapsed": false
   },
   "outputs": [
   ],
   "source": [
    "import numpy as np\n",
    "import math\n",
    "import matplotlib.pyplot as plt"
   ]
  },
  {
   "cell_type": "markdown",
   "metadata": {
    "collapsed": false
   },
   "source": [
    "## SageMath’s polynomials \n",
    "\n",
    "\n",
    "- (x-1)(x-2)(x-3)(x-4)(x-5)(x-6)(x-7)(x-8)(x-9)(x-10) = x^10 - 55*x^9 + 1320*x^8 - 18150*x^7 + 157773*x^6 - 902055*x^5 + 3416930*x^4 - 8409500*x^3 + 12753576*x^2 - 10628640*x + 3628800\n",
    "\n",
    "- x^10 - 55x^9 + 1320x^8 - 18150x^7 + 157773x^6 - 902055x^5 + 3416930x^4 - 8409500x^3 + 12753576x^2 - 10628640*x + 3628800) / (x-1) = x^9 - 54*x^8 + 1266*x^7 - 16884*x^6 + 140889*x^5 - 761166*x^4 + 2655764*x^3 - 5753736*x^2 + 6999840*x - 3628800"
   ]
  },
  {
   "cell_type": "markdown",
   "metadata": {
    "collapsed": false
   },
   "source": [
    "<img src=\"https://raw.githubusercontent.com/almartins1/AlgorithmsUN2020II/master/SymPyLab/Polinomio1Pt1.jpg\" />\n",
    "<img src=\"https://raw.githubusercontent.com/almartins1/AlgorithmsUN2020II/master/SymPyLab/Polinomio1Pt2.jpg\" />"
   ]
  },
  {
   "cell_type": "code",
   "execution_count": 2,
   "metadata": {
    "collapsed": false
   },
   "outputs": [
    {
     "name": "stdout",
     "output_type": "stream",
     "text": [
      "x^9 - 54*x^8 + 1266*x^7 - 16884*x^6 + 140889*x^5 - 761166*x^4 + 2655764*x^3 - 5753736*x^2 + 6999840*x - 3628800\n",
      "x^8 - 52*x^7 + 1162*x^6 - 14560*x^5 + 111769*x^4 - 537628*x^3 + 1580508*x^2 - 2592720*x + 1814400\n",
      "x^7 - 49*x^6 + 1015*x^5 - 11515*x^4 + 77224*x^3 - 305956*x^2 + 662640*x - 604800\n",
      "x^6 - 45*x^5 + 835*x^4 - 8175*x^3 + 44524*x^2 - 127860*x + 151200\n",
      "x^5 - 40*x^4 + 635*x^3 - 5000*x^2 + 19524*x - 30240\n",
      "x^4 - 34*x^3 + 431*x^2 - 2414*x + 5040\n"
     ]
    },
    {
     "name": "stdout",
     "output_type": "stream",
     "text": [
      "x^3 - 27*x^2 + 242*x - 720\n",
      "x^2 - 19*x + 90\n",
      "x - 10\n"
     ]
    }
   ],
   "source": [
    "x = var('x')\n",
    "\n",
    "p = x**10 - 55*x**9 + 1320*x**8 - 18150*x**7 + 157773*x**6 - 902055*x**5 + 3416930*x**4 - 8409500*x**3 + 12753576*x**2 - 10628640*x + 3628800\n",
    "\n",
    "p = p/(x-1)\n",
    "\n",
    "print(p.full_simplify())\n",
    "\n",
    "p = p/(x-2)\n",
    "\n",
    "print(p.full_simplify())\n",
    "\n",
    "p = p/(x-3)\n",
    "\n",
    "print(p.full_simplify())\n",
    "\n",
    "p = p/(x-4)\n",
    "\n",
    "print(p.full_simplify())\n",
    "\n",
    "p = p/(x-5)\n",
    "\n",
    "print(p.full_simplify())\n",
    "\n",
    "p = p/(x-6)\n",
    "\n",
    "print(p.full_simplify())\n",
    "\n",
    "p = p/(x-7)\n",
    "\n",
    "print(p.full_simplify())\n",
    "\n",
    "p = p/(x-8)\n",
    "\n",
    "print(p.full_simplify())\n",
    "\n",
    "p = p/(x-9)\n",
    "\n",
    "print(p.full_simplify())"
   ]
  },
  {
   "cell_type": "markdown",
   "metadata": {
    "collapsed": false
   },
   "source": [
    "<img src=\"https://raw.githubusercontent.com/almartins1/AlgorithmsUN2020II/master/SymPyLab/Polinomio1Pt3.jpg\" />"
   ]
  },
  {
   "cell_type": "code",
   "execution_count": 3,
   "metadata": {
    "collapsed": false
   },
   "outputs": [
    {
     "data": {
      "text/plain": [
       "(x - 10) * (x - 9) * (x - 8) * (x - 7) * (x - 6) * (x - 5) * (x - 4) * (x - 3) * (x - 2) * (x - 1)"
      ]
     },
     "execution_count": 3,
     "metadata": {
     },
     "output_type": "execute_result"
    }
   ],
   "source": [
    "x = PolynomialRing(RationalField(), 'x').gen()\n",
    "f = (x^10 - 55*x^9 + 1320*x^8 - 18150*x^7 + 157773*x^6 - 902055*x^5 + 3416930*x^4 - 8409500*x^3 + 12753576*x^2 - 10628640*x + 3628800)\n",
    "f.factor()"
   ]
  },
  {
   "cell_type": "markdown",
   "metadata": {
    "collapsed": false
   },
   "source": [
    "<img src=\"https://raw.githubusercontent.com/almartins1/AlgorithmsUN2020II/master/SymPyLab/Polinomio1Pt4-1.jpg\" />"
   ]
  },
  {
   "cell_type": "code",
   "execution_count": 4,
   "metadata": {
    "collapsed": false
   },
   "outputs": [
    {
     "data": {
      "text/plain": [
       "[x == 9, x == 10, x == 8, x == 6, x == 7, x == 4, x == 5, x == 3, x == 1, x == 2]"
      ]
     },
     "execution_count": 4,
     "metadata": {
     },
     "output_type": "execute_result"
    }
   ],
   "source": [
    "x = var('x')\n",
    "S = solve(x^10 - 55*x^9 + 1320*x^8 - 18150*x^7 + 157773*x^6 - 902055*x^5 + 3416930*x^4 - 8409500*x^3 + 12753576*x^2 - 10628640*x + 3628800 == 0, x)\n",
    "S"
   ]
  },
  {
   "cell_type": "markdown",
   "metadata": {
    "collapsed": false
   },
   "source": [
    "## Another polinomial\n",
    "\n",
    "- $$ (x-1)(x-3)(x-5)(x-7)(x-9) = x^{5} - 25x^{4} + 230x^{3} - 950 x^{2} + 1689x - 945$$\n",
    "- $$ \\frac{x^{5} - 25x^{4} + 230x^{3} - 950 x^{2} + 1689x - 945}{x-1} = x^{4} - 24x^{3} + 206 x^{2} - 744x + 945  $$"
   ]
  },
  {
   "cell_type": "markdown",
   "metadata": {
    "collapsed": false
   },
   "source": [
    "<img src=\"https://raw.githubusercontent.com/almartins1/AlgorithmsUN2020II/master/SymPyLab/Polinomio2.jpg\" />"
   ]
  },
  {
   "cell_type": "code",
   "execution_count": 5,
   "metadata": {
    "collapsed": false
   },
   "outputs": [
    {
     "name": "stdout",
     "output_type": "stream",
     "text": [
      "x^4 - 24*x^3 + 206*x^2 - 744*x + 945\n",
      "x^3 - 21*x^2 + 143*x - 315"
     ]
    },
    {
     "name": "stdout",
     "output_type": "stream",
     "text": [
      "\n",
      "x^2 - 16*x + 63\n",
      "x - 9\n",
      "1\n"
     ]
    }
   ],
   "source": [
    "x = var('x')\n",
    "\n",
    "p = x**5 - 25*x**4 + 230*x**3 - 950*x**2 + 1689*x - 945\n",
    "\n",
    "p = p/(x-1)\n",
    "\n",
    "print(p.full_simplify())\n",
    "\n",
    "p = p/(x-3)\n",
    "\n",
    "print(p.full_simplify())\n",
    "\n",
    "p = p/(x-5)\n",
    "\n",
    "print(p.full_simplify())\n",
    "\n",
    "p = p/(x-7)\n",
    "\n",
    "print(p.full_simplify())\n",
    "\n",
    "p = p/(x-9)\n",
    "\n",
    "print(p.full_simplify())"
   ]
  },
  {
   "cell_type": "markdown",
   "metadata": {
    "collapsed": false
   },
   "source": [
    "<img src=\"https://raw.githubusercontent.com/almartins1/AlgorithmsUN2020II/master/SymPyLab/Polinomio2Pt2.jpg\" />"
   ]
  },
  {
   "cell_type": "code",
   "execution_count": 6,
   "metadata": {
    "collapsed": false
   },
   "outputs": [
    {
     "data": {
      "text/plain": [
       "(x - 9) * (x - 7) * (x - 5) * (x - 3) * (x - 1)"
      ]
     },
     "execution_count": 6,
     "metadata": {
     },
     "output_type": "execute_result"
    }
   ],
   "source": [
    "x = PolynomialRing(RationalField(), 'x').gen()\n",
    "f = (x**5 - 25*x**4 + 230*x**3 - 950*x**2 + 1689*x - 945)\n",
    "f.factor()"
   ]
  },
  {
   "cell_type": "markdown",
   "metadata": {
    "collapsed": false
   },
   "source": [
    "<img src=\"https://raw.githubusercontent.com/almartins1/AlgorithmsUN2020II/master/SymPyLab/Polinomio2Pt3.jpg\" />"
   ]
  },
  {
   "cell_type": "code",
   "execution_count": 7,
   "metadata": {
    "collapsed": false
   },
   "outputs": [
    {
     "data": {
      "text/plain": [
       "[x == 3, x == 9, x == 7, x == 5, x == 1]"
      ]
     },
     "execution_count": 7,
     "metadata": {
     },
     "output_type": "execute_result"
    }
   ],
   "source": [
    "x = var('x')\n",
    "S = solve(x**5 - 25*x**4 + 230*x**3 - 950*x**2 + 1689*x - 945 == 0, x)\n",
    "S"
   ]
  },
  {
   "cell_type": "markdown",
   "metadata": {
    "collapsed": false
   },
   "source": [
    "## SageMath’s Symbolic and Numercical Complex Evaluations\n"
   ]
  },
  {
   "cell_type": "markdown",
   "metadata": {
    "collapsed": false
   },
   "source": [
    "- $$a = a_{1}^{2} + 3a_{2} + a_{3}i, b = b_{1}^{3} + 5b_{2}i, \\frac{a}{b}$$\n",
    "<img src=\"https://raw.githubusercontent.com/almartins1/AlgorithmsUN2020II/master/SymPyLab/complejos1.JPG\" />"
   ]
  },
  {
   "cell_type": "code",
   "execution_count": 8,
   "metadata": {
    "collapsed": false
   },
   "outputs": [
    {
     "name": "stdout",
     "output_type": "stream",
     "text": [
      "(a1^2 + 3*a2 + I*a3)/(b1^3 + 5*I*b2 - b3)\n",
      "a1^2/(b1^3 + 5*I*b2 - b3) + 3*a2/(b1^3 + 5*I*b2 - b3) + I*a3/(b1^3 + 5*I*b2 - b3)\n",
      "a1^2/(b1^3 + 5*I*b2 - b3) + 3*a2/(b1^3 + 5*I*b2 - b3) + I*a3/(b1^3 + 5*I*b2 - b3)\n"
     ]
    },
    {
     "name": "stdout",
     "output_type": "stream",
     "text": [
      "a1^2/(b1^3 + 5*I*b2 - b3) + 3*a2/(b1^3 + 5*I*b2 - b3) + I*a3/(b1^3 + 5*I*b2 - b3)\n"
     ]
    }
   ],
   "source": [
    "a1, a2, a3, b1, b2, b3 = var(\"a1 a2 a3 b1 b2 b3 \")  \n",
    "a = a1**2 + 3*a2 + a3*I\n",
    "b = b1**3 + 5*b2*I - b3\n",
    "c = a/b\n",
    "print(c)\n",
    "print(c.expand())\n",
    "print(c.expand().expand())\n",
    "print(simplify(c.expand()))"
   ]
  },
  {
   "cell_type": "markdown",
   "metadata": {
    "collapsed": false
   },
   "source": [
    "- $$m = -5m_{1}^{3} + 7m_{2}^{2} - 11m_{3}i, n =4n_{1}^{4} - 2n_{2}^{2} + 3n_{3}i - 45n_{4}, m^{n}$$\n",
    "<img src=\"https://raw.githubusercontent.com/almartins1/AlgorithmsUN2020II/master/SymPyLab/complejos2.JPG\" />"
   ]
  },
  {
   "cell_type": "code",
   "execution_count": 9,
   "metadata": {
    "collapsed": false
   },
   "outputs": [
    {
     "name": "stdout",
     "output_type": "stream",
     "text": [
      "(-5*m1^3 + 7*m2^2 - 11*I*m3)^(4*n1^4 - 2*n2^2 + 3*I*n3 - 45*n4)\n",
      "(-5*m1^3 + 7*m2^2 - 11*I*m3)^(4*n1^4)*(-5*m1^3 + 7*m2^2 - 11*I*m3)^(3*I*n3)/((-5*m1^3 + 7*m2^2 - 11*I*m3)^(2*n2^2)*(-5*m1^3 + 7*m2^2 - 11*I*m3)^(45*n4))\n",
      "(-5*m1^3 + 7*m2^2 - 11*I*m3)^(4*n1^4)*(-5*m1^3 + 7*m2^2 - 11*I*m3)^(3*I*n3)/((-5*m1^3 + 7*m2^2 - 11*I*m3)^(2*n2^2)*(-5*m1^3 + 7*m2^2 - 11*I*m3)^(45*n4))\n",
      "(-5*m1^3 + 7*m2^2 - 11*I*m3)^(4*n1^4)*(-5*m1^3 + 7*m2^2 - 11*I*m3)^(3*I*n3)/((-5*m1^3 + 7*m2^2 - 11*I*m3)^(2*n2^2)*(-5*m1^3 + 7*m2^2 - 11*I*m3)^(45*n4))\n",
      "(-5*m1^3 + 7*m2^2 - 11*I*m3)^(4*n1^4 - 2*n2^2 + 3*I*n3 - 45*n4)\n"
     ]
    }
   ],
   "source": [
    "m1, m2, m3, n1, n2, n3, n4 = var(\"m1 m2 m3 n1 n2 n3 n4\")  \n",
    "m = -5*m1**3 + 7*m2**2 - 11*m3*I\n",
    "n =4*n1**4 - 2*n2**2 + 3*I*n3 - 45*n4\n",
    "o = m**n\n",
    "print(o)\n",
    "print(o.expand())\n",
    "print(o.expand().expand())\n",
    "print(expand(expand(expand(o))))\n",
    "print(simplify(expand(o)))"
   ]
  },
  {
   "cell_type": "markdown",
   "metadata": {
    "collapsed": false
   },
   "source": [
    "## SageMath’s integrals"
   ]
  },
  {
   "cell_type": "markdown",
   "metadata": {
    "collapsed": false
   },
   "source": [
    "\n",
    "\n",
    "Let’s start with a simple integration problem in 1D,\n",
    "\n",
    "$$\\int_1^5 x^2 dx$$\n",
    " \n",
    "This is easy to solve analytically, and we can use the SageMath library in case you’ve forgotten how to resolve simple integrals."
   ]
  },
  {
   "cell_type": "code",
   "execution_count": 10,
   "metadata": {
    "collapsed": false
   },
   "outputs": [
    {
     "name": "stdout",
     "output_type": "stream",
     "text": [
      "Analytical result: 41.333333333333336\n"
     ]
    }
   ],
   "source": [
    "result={}\n",
    "x = var(\"x\")\n",
    "i = integral(x**2,x,1,5)\n",
    "print(\"Analytical result: {}\".format(float(i)))"
   ]
  },
  {
   "cell_type": "markdown",
   "metadata": {
    "collapsed": false
   },
   "source": [
    "**Integrating with Monte Carlo** \n",
    "[risk-engineering.org](https://risk-engineering.org/notebook/monte-carlo-LHS.html) \n",
    "\n",
    "We can estimate this integral using a standard Monte Carlo method, where we use the fact that the expectation of a random variable is related to its integral\n",
    "\n",
    "$$\\mathbb{E}(f(x)) = \\int_I f(x) dx $$\n",
    "\n",
    "We will sample a large number N of points in I and calculate their average, and multiply by the range over which we are integrating."
   ]
  },
  {
   "cell_type": "code",
   "execution_count": 11,
   "metadata": {
    "collapsed": false
   },
   "outputs": [
    {
     "name": "stdout",
     "output_type": "stream",
     "text": [
      "Standard Monte Carlo result: 41.36769657460777\n"
     ]
    }
   ],
   "source": [
    "N = 1_000_000\n",
    "accum = 0\n",
    "for i in range(N):\n",
    "    x = np.random.uniform(1, 5)\n",
    "    accum += x**2\n",
    "volume = 5 - 1\n",
    "result[\"MC\"] = volume * accum / float(N)\n",
    "print(\"Standard Monte Carlo result: {}\".format(result[\"MC\"]))"
   ]
  },
  {
   "cell_type": "markdown",
   "metadata": {
    "collapsed": false
   },
   "source": [
    "- integrate(x\\*\\*2 * sin(x)\\*\\*3)\n",
    "\n",
    "<img src=\"https://raw.githubusercontent.com/gjhernandezp/algorithms/master/SymPyLab/sympylabwolfram8.jpg\" />"
   ]
  },
  {
   "cell_type": "code",
   "execution_count": 12,
   "metadata": {
    "collapsed": false
   },
   "outputs": [
    {
     "name": "stdout",
     "output_type": "stream",
     "text": [
      "-15.429782153305553\n"
     ]
    }
   ],
   "source": [
    "x = var(\"x\")\n",
    "i = integral(x**2 * sin(x)**3,x,1,5)\n",
    "print(float(i))"
   ]
  },
  {
   "cell_type": "code",
   "execution_count": 13,
   "metadata": {
    "collapsed": false
   },
   "outputs": [
    {
     "name": "stdout",
     "output_type": "stream",
     "text": [
      "Standard Monte Carlo result: -15.46183314000439\n"
     ]
    }
   ],
   "source": [
    "N = 100_000\n",
    "accum = 0\n",
    "l =[]\n",
    "for i in range(N):\n",
    "    x = np.random.uniform(1, 5)\n",
    "    accum += x**2 * sin(x)**3\n",
    "volume = 5 - 1\n",
    "result[\"MC\"] = volume * accum / float(N)\n",
    "print(\"Standard Monte Carlo result: {}\".format(result[\"MC\"]))"
   ]
  },
  {
   "cell_type": "markdown",
   "metadata": {
    "collapsed": false
   },
   "source": [
    "**A higher dimensional integral** [risk-engineering.org](https://risk-engineering.org/notebook/monte-carlo-LHS.html) \n",
    "\n",
    "\n",
    "Let us now analyze an integration problem in dimension 4, the Ishigami function. This is a well-known function in numerical optimization and stochastic analysis, because it is very highly non-linear."
   ]
  },
  {
   "cell_type": "code",
   "execution_count": 14,
   "metadata": {
    "collapsed": false
   },
   "outputs": [
    {
     "name": "stdout",
     "output_type": "stream",
     "text": [
      "Analytical result: 868.1757470483949\n"
     ]
    }
   ],
   "source": [
    "x1 = var(\"x1\")\n",
    "x2 = var(\"x2\")\n",
    "x3 = var(\"x3\")\n",
    "expr = (x1) + 7*sin(x2)^2 + 0.1 * x3^4 * sin(x1)\n",
    "res = expr.integral(x3,-pi, pi).integral(x2,-pi, pi).integral(x1, -pi, pi)\n",
    "# Note: we use float(res) to convert res from symbolic form to floating point form\n",
    "result = {} \n",
    "result[\"analytical\"] = float(res)\n",
    "print(\"Analytical result: {}\".format(result[\"analytical\"]))"
   ]
  },
  {
   "cell_type": "code",
   "execution_count": 15,
   "metadata": {
    "collapsed": false
   },
   "outputs": [
    {
     "name": "stdout",
     "output_type": "stream",
     "text": [
      "Standard Monte Carlo result: 883.3686490777791\n"
     ]
    }
   ],
   "source": [
    "N = 10_000\n",
    "accum = 0\n",
    "for i in range(N):\n",
    "    xx1 = np.random.uniform(-np.pi, np.pi)\n",
    "    xx2 = np.random.uniform(-np.pi, np.pi)\n",
    "    xx3 = np.random.uniform(-np.pi, np.pi)\n",
    "    accum += np.sin(xx1) + 7*np.sin(xx2)**2 + 0.1 * xx3**4 * np.sin(xx1)\n",
    "volume = (2 * np.pi)**3\n",
    "result = {} \n",
    "result[\"MC\"] = volume * accum / float(N)\n",
    "print(\"Standard Monte Carlo result: {}\".format(result[\"MC\"]))"
   ]
  },
  {
   "cell_type": "code",
   "execution_count": 16,
   "metadata": {
    "collapsed": false
   },
   "outputs": [
   ],
   "source": [
    "# adapted from https://mail.scipy.org/pipermail/scipy-user/2013-June/034744.html\n",
    "def halton(dim: int, nbpts: int):\n",
    "    h = np.full(nbpts * dim, np.nan)\n",
    "    p = np.full(nbpts, np.nan)\n",
    "    P = [2, 3, 5, 7, 11, 13, 17, 19, 23, 29, 31]\n",
    "    lognbpts = math.log(nbpts + 1)\n",
    "    for i in range(dim):\n",
    "        b = P[i]\n",
    "        n = int(math.ceil(lognbpts / math.log(b)))\n",
    "        for t in range(n):\n",
    "            p[t] = pow(b, -(t + 1))\n",
    "\n",
    "        for j in range(nbpts):\n",
    "            d = j + 1\n",
    "            sum_ = math.fmod(d, b) * p[0]\n",
    "            for t in range(1, n):\n",
    "                d = math.floor(d / b)\n",
    "                sum_ += math.fmod(d, b) * p[t]\n",
    "\n",
    "            h[j*dim + i] = sum_\n",
    "    return h.reshape(nbpts, dim)"
   ]
  },
  {
   "cell_type": "code",
   "execution_count": 17,
   "metadata": {
    "collapsed": false
   },
   "outputs": [
    {
     "name": "stderr",
     "output_type": "stream",
     "text": [
      "/ext/sage/sage-9.1/local/lib/python3.7/site-packages/matplotlib/cbook/deprecation.py:107: MatplotlibDeprecationWarning: Adding an axes using the same arguments as a previous axes currently reuses the earlier instance.  In a future version, a new instance will always be created and returned.  Meanwhile, this warning can be suppressed, and the future behavior ensured, by passing a unique label to each axes instance.\n",
      "  warnings.warn(message, mplDeprecation, stacklevel=1)\n"
     ]
    },
    {
     "data": {
      "image/png": "[encoded data removed]",
      "text/plain": [
       "<Figure size 432x288 with 1 Axes>"
      ]
     },
     "execution_count": 17,
     "metadata": {
     },
     "output_type": "execute_result"
    }
   ],
   "source": [
    "N = 1000\n",
    "seq = halton(2, N)\n",
    "plt.title(\"2D Halton sequence\")\n",
    "# Note: we use \"alpha=0.5\" in the scatterplot so that the plotted points are semi-transparent\n",
    "# (alpha-transparency of 0.5 out of 1), so that we can see when any points are superimposed.\n",
    "plt.axes().set_aspect('equal')\n",
    "plt.scatter(seq[:,0], seq[:,1], marker=\".\", alpha=0.5);"
   ]
  },
  {
   "cell_type": "code",
   "execution_count": 18,
   "metadata": {
    "collapsed": false
   },
   "outputs": [
    {
     "name": "stdout",
     "output_type": "stream",
     "text": [
      "Qausi Monte Carlo Halton Sequence result: 868.238928030592\n"
     ]
    }
   ],
   "source": [
    "N = 10_000\n",
    "\n",
    "seq = halton(3, N)\n",
    "accum = 0\n",
    "for i in range(N):\n",
    "    xx1 = -np.pi + seq[i][0] * np.pi * 2\n",
    "    xx2 = -np.pi + seq[i][1] * np.pi * 2\n",
    "    xx3 = -np.pi + seq[i][2] * np.pi * 2\n",
    "    accum += np.sin(xx1) + 7*np.sin(xx2)**2 + 0.1 * xx3**4 * np.sin(xx1)\n",
    "volume = (2 * np.pi)**3\n",
    "result = {} \n",
    "result[\"MC\"] = volume * accum / float(N)\n",
    "print(\"Qausi Monte Carlo Halton Sequence result: {}\".format(result[\"MC\"]))"
   ]
  },
  {
   "cell_type": "markdown",
   "metadata": {
    "collapsed": false
   },
   "source": [
    "<h1>\n",
    "    Integrals\n",
    "</h1>\n",
    "\n",
    "<hr>\n",
    "\n",
    "$$\\int_{1}^{10}\\frac{x+1}{\\sqrt[3]{x^2+2x+7}}dx$$\n",
    "\n",
    "<img src=\"https://raw.githubusercontent.com/almartins1/AlgorithmsUN2020II/master/SymPyLab/producto_polinomios.png\" />"
   ]
  },
  {
   "cell_type": "code",
   "execution_count": 19,
   "metadata": {
    "collapsed": false
   },
   "outputs": [
    {
     "name": "stdout",
     "output_type": "stream",
     "text": [
      "15.468278799025406\n"
     ]
    }
   ],
   "source": [
    "x = var('x')\n",
    "i = integral((x+1)*(x^2+2*x+7)^(-1/3),x,1,10)\n",
    "print(float(i))"
   ]
  },
  {
   "cell_type": "code",
   "execution_count": 20,
   "metadata": {
    "collapsed": false
   },
   "outputs": [
    {
     "name": "stdout",
     "output_type": "stream",
     "text": [
      "Standard Monte Carlo result: 15.492935814345069\n"
     ]
    }
   ],
   "source": [
    "result = {}\n",
    "N = 10_000\n",
    "accum = 0\n",
    "for i in range(N):\n",
    "    x = np.random.uniform(1, 10)\n",
    "    accum += (x+1)*(x^2+2*x+7)^(-1/3)\n",
    "volume = 9\n",
    "result[\"MC\"] = volume * accum / float(N)\n",
    "print(\"Standard Monte Carlo result: {}\".format(result[\"MC\"]))"
   ]
  },
  {
   "cell_type": "markdown",
   "metadata": {
    "collapsed": false
   },
   "source": [
    "<hr>\n",
    "\n",
    "$$\\int_{1}^{10}\\frac{\\sqrt{ln(x)}}{3x}dx$$\n",
    "<img src=\"https://raw.githubusercontent.com/almartins1/AlgorithmsUN2020II/master/SymPyLab/log.png\" />"
   ]
  },
  {
   "cell_type": "code",
   "execution_count": 21,
   "metadata": {
    "collapsed": false
   },
   "outputs": [
    {
     "name": "stdout",
     "output_type": "stream",
     "text": [
      "2/9*log(x)^(3/2)\n",
      "0.7764455750726634\n"
     ]
    }
   ],
   "source": [
    "x =var(\"x\")\n",
    "i = integral(log(x)^(1/2)/(3*x),x)\n",
    "print(i)\n",
    "print(float(integral(log(x)^(1/2)/(3*x),x,1,10)))\n"
   ]
  },
  {
   "cell_type": "code",
   "execution_count": 22,
   "metadata": {
    "collapsed": false
   },
   "outputs": [
    {
     "name": "stdout",
     "output_type": "stream",
     "text": [
      "Standard Monte Carlo result: 0.7736849848204813\n"
     ]
    }
   ],
   "source": [
    "N = 10_000\n",
    "accum = 0\n",
    "for i in range(N):\n",
    "    x = np.random.uniform(1, 10)\n",
    "    accum += np.log(x)^(1/2)/(3*x)\n",
    "volume = 9\n",
    "result[\"MC\"] = volume * accum / float(N)\n",
    "print(\"Standard Monte Carlo result: {}\".format(result[\"MC\"]))"
   ]
  },
  {
   "cell_type": "markdown",
   "metadata": {
    "collapsed": false
   },
   "source": [
    "<hr>\n",
    "\n",
    "$$\\int_{1}^{10}sin^4(x)cos(x)dx$$\n",
    "\n",
    "<img src=\"https://raw.githubusercontent.com/almartins1/AlgorithmsUN2020II/master/SymPyLab/sincos.png\" />"
   ]
  },
  {
   "cell_type": "code",
   "execution_count": 23,
   "metadata": {
    "collapsed": false
   },
   "outputs": [
    {
     "name": "stdout",
     "output_type": "stream",
     "text": [
      "1/5*sin(x)^5\n",
      "-0.0939076671906226\n"
     ]
    }
   ],
   "source": [
    "x = var(\"x\")\n",
    "i = integral(sin(x)**4*cos(x),x)\n",
    "print(i)\n",
    "print(float(integral(sin(x)^4*cos(x),x,1,10)))"
   ]
  },
  {
   "cell_type": "code",
   "execution_count": 24,
   "metadata": {
    "collapsed": false
   },
   "outputs": [
    {
     "name": "stdout",
     "output_type": "stream",
     "text": [
      "Standard Monte Carlo result: -0.09207112544886928\n"
     ]
    }
   ],
   "source": [
    "N = 100_000\n",
    "accum = 0\n",
    "for i in range(N):\n",
    "    x = np.random.uniform(1, 10)\n",
    "    accum += np.sin(x)^4*np.cos(x)\n",
    "volume = 9\n",
    "result[\"MC\"] = volume * accum / float(N)\n",
    "print(\"Standard Monte Carlo result: {}\".format(result[\"MC\"]))"
   ]
  },
  {
   "cell_type": "markdown",
   "metadata": {
    "collapsed": false
   },
   "source": [
    "<hr>\n",
    "\n",
    "$$\\int_{1}^{7}e^xsin(x) dx$$\n",
    "\n",
    "<img src=\"https://raw.githubusercontent.com/almartins1/AlgorithmsUN2020II/master/SymPyLab/exp.png\" />"
   ]
  },
  {
   "cell_type": "code",
   "execution_count": 25,
   "metadata": {
    "collapsed": false
   },
   "outputs": [
    {
     "name": "stdout",
     "output_type": "stream",
     "text": [
      "-1/2*(cos(x) - sin(x))*e^x\n",
      "-53.549791437970086\n"
     ]
    }
   ],
   "source": [
    "x = var(\"x\")\n",
    "i = integral(exp(x)*sin(x),x)\n",
    "print(i)\n",
    "print(float(integral(exp(x)*sin(x),x,1,7)))"
   ]
  },
  {
   "cell_type": "code",
   "execution_count": 26,
   "metadata": {
    "collapsed": false
   },
   "outputs": [
    {
     "name": "stdout",
     "output_type": "stream",
     "text": [
      "Standard Monte Carlo result: -55.47971273710536\n"
     ]
    }
   ],
   "source": [
    "N = 100_000\n",
    "accum = 0\n",
    "for i in range(N):\n",
    "    x = np.random.uniform(1, 7)\n",
    "    accum += np.exp(x)*np.sin(x)\n",
    "volume = 6\n",
    "result[\"MC\"] = volume * accum / float(N)\n",
    "print(\"Standard Monte Carlo result: {}\".format(result[\"MC\"]))"
   ]
  },
  {
   "cell_type": "markdown",
   "metadata": {
    "collapsed": false
   },
   "source": [
    "**A higher dimensional integral** [risk-engineering.org](https://risk-engineering.org/notebook/monte-carlo-LHS.html) \n",
    "\n",
    "\n",
    "Let us now analyze an integration problem in dimension 4, the Ishigami function. This is a well-known function in numerical optimization and stochastic analysis, because it is very highly non-linear."
   ]
  },
  {
   "cell_type": "code",
   "execution_count": 27,
   "metadata": {
    "collapsed": false
   },
   "outputs": [
    {
     "name": "stdout",
     "output_type": "stream",
     "text": [
      "Analytical result: 868.1757470483949\n"
     ]
    }
   ],
   "source": [
    "x1 = var(\"x1\")\n",
    "x2 = var(\"x2\")\n",
    "x3 = var(\"x3\")\n",
    "expr = sin(x1) + 7*sin(x2)^2 + 0.1 * x3^4 * sin(x1)\n",
    "res = expr.integral(x3,-pi, pi).integral(x2,-pi, pi).integral(x1, -pi, pi)\n",
    "# Note: we use float(res) to convert res from symbolic form to floating point form\n",
    "result = {} \n",
    "result[\"analytical\"] = float(res)\n",
    "print(\"Analytical result: {}\".format(result[\"analytical\"]))"
   ]
  },
  {
   "cell_type": "code",
   "execution_count": 28,
   "metadata": {
    "collapsed": false
   },
   "outputs": [
   ],
   "source": [
    "def halton(dim: int, nbpts: int):\n",
    "    h = np.full(nbpts * dim, np.nan)\n",
    "    p = np.full(nbpts, np.nan)\n",
    "    P = [2, 3, 5, 7, 11, 13, 17, 19, 23, 29, 31]\n",
    "    lognbpts = math.log(nbpts + 1)\n",
    "    for i in range(dim):\n",
    "        b = P[i]\n",
    "        n = int(math.ceil(lognbpts / math.log(b)))\n",
    "        for t in range(n):\n",
    "            p[t] = pow(b, -(t + 1))\n",
    "\n",
    "        for j in range(nbpts):\n",
    "            d = j + 1\n",
    "            sum_ = math.fmod(d, b) * p[0]\n",
    "            for t in range(1, n):\n",
    "                d = math.floor(d / b)\n",
    "                sum_ += math.fmod(d, b) * p[t]\n",
    "\n",
    "            h[j*dim + i] = sum_\n",
    "    return h.reshape(nbpts, dim)"
   ]
  },
  {
   "cell_type": "code",
   "execution_count": 29,
   "metadata": {
    "collapsed": false
   },
   "outputs": [
    {
     "name": "stderr",
     "output_type": "stream",
     "text": [
      "/ext/sage/sage-9.1/local/lib/python3.7/site-packages/matplotlib/cbook/deprecation.py:107: MatplotlibDeprecationWarning: Adding an axes using the same arguments as a previous axes currently reuses the earlier instance.  In a future version, a new instance will always be created and returned.  Meanwhile, this warning can be suppressed, and the future behavior ensured, by passing a unique label to each axes instance.\n",
      "  warnings.warn(message, mplDeprecation, stacklevel=1)\n"
     ]
    },
    {
     "data": {
      "image/png": "[encoded data removed]",
      "text/plain": [
       "<Figure size 432x288 with 1 Axes>"
      ]
     },
     "execution_count": 29,
     "metadata": {
     },
     "output_type": "execute_result"
    }
   ],
   "source": [
    "N = 1000\n",
    "seq = halton(2, N)\n",
    "plt.title(\"2D Halton sequence\")\n",
    "# Note: we use \"alpha=0.5\" in the scatterplot so that the plotted points are semi-transparent\n",
    "# (alpha-transparency of 0.5 out of 1), so that we can see when any points are superimposed.\n",
    "plt.axes().set_aspect('equal')\n",
    "plt.scatter(seq[:,0], seq[:,1], marker=\".\", alpha=0.5);"
   ]
  },
  {
   "cell_type": "markdown",
   "metadata": {
    "collapsed": false
   },
   "source": [
    "<br>\n",
    "<hr>\n",
    "$$\\int_{0}^{1}\\int_{0}^{\\frac{\\pi}{2}}\\int_{0}^{\\frac{\\pi}{2}} x^5\\sin(y)\\cos(y)\\sin^3(z)\\cos(z) dzdydx$$\n",
    "<br>"
   ]
  },
  {
   "cell_type": "code",
   "execution_count": 30,
   "metadata": {
    "collapsed": false
   },
   "outputs": [
    {
     "name": "stdout",
     "output_type": "stream",
     "text": [
      "Analytical result: 0.020833333333333332\n"
     ]
    }
   ],
   "source": [
    "x1 = var(\"x1\")\n",
    "x2 = var(\"x2\")\n",
    "x3 = var(\"x3\")\n",
    "expr = x3**5*sin(x2)*cos(x2)*sin(x1)^3*cos(x1)\n",
    "res = expr.integral(x3, 0, 1).integral(x2, 0, pi/2).integral(x1, 0, pi/2)\n",
    "# Note: we use float(res) to convert res from symbolic form to floating point form\n",
    "result = {} \n",
    "result[\"analytical\"] = float(res)\n",
    "print(\"Analytical result: {}\".format(result[\"analytical\"]))"
   ]
  },
  {
   "cell_type": "code",
   "execution_count": 31,
   "metadata": {
    "collapsed": false
   },
   "outputs": [
    {
     "name": "stdout",
     "output_type": "stream",
     "text": [
      "Standard Monte Carlo result: 0.02121561949020078\n"
     ]
    }
   ],
   "source": [
    "N = 10_000\n",
    "accum = 0\n",
    "for i in range(N):\n",
    "    xx1 = np.random.uniform(0, np.pi/2)\n",
    "    xx2 = np.random.uniform(0, np.pi/2)\n",
    "    xx3 = np.random.uniform(0, 1)\n",
    "    accum += xx3**5*np.sin(xx2)*np.cos(xx2)*np.sin(xx1)**3*np.cos(xx1)\n",
    "volume = (np.pi/2)**2\n",
    "result = {} \n",
    "result[\"MC\"] = volume * accum / float(N)\n",
    "print(\"Standard Monte Carlo result: {}\".format(result[\"MC\"]))"
   ]
  },
  {
   "cell_type": "code",
   "execution_count": 32,
   "metadata": {
    "collapsed": false
   },
   "outputs": [
    {
     "name": "stdout",
     "output_type": "stream",
     "text": [
      "Qausi Monte Carlo Halton Sequence result: 0.020830233518443975\n"
     ]
    }
   ],
   "source": [
    "N = 100_000\n",
    "\n",
    "seq = halton(3, N)\n",
    "accum = 0\n",
    "for i in range(N):\n",
    "    xx1 =  seq[i][0] * np.pi /2\n",
    "    xx2 =  seq[i][1] * np.pi / 2\n",
    "    xx3 =  seq[i][2]\n",
    "    accum += xx3^5*np.sin(xx2)*np.cos(xx2)*np.sin(xx1)**3*np.cos(xx1)\n",
    "volume = (np.pi/2)**2\n",
    "result = {} \n",
    "result[\"MC\"] = volume * accum / float(N)\n",
    "print(\"Qausi Monte Carlo Halton Sequence result: {}\".format(result[\"MC\"]))"
   ]
  },
  {
   "cell_type": "markdown",
   "metadata": {
    "collapsed": false
   },
   "source": [
    "<br>\n",
    "<hr>\n",
    "$$\\int_{2}^{4}\\int_{0}^{\\pi} x^3(1+4\\sin^2 (y))dydx$$\n",
    "<br>"
   ]
  },
  {
   "cell_type": "code",
   "execution_count": 33,
   "metadata": {
    "collapsed": false
   },
   "outputs": [
    {
     "name": "stdout",
     "output_type": "stream",
     "text": [
      "Analytical result: 301.59289474462014\n"
     ]
    }
   ],
   "source": [
    "x1 = var(\"x1\")\n",
    "x2 = var(\"x2\")\n",
    "expr = x1**3*(1+4*sin(x2)^2)\n",
    "res = expr.integral(x2, 0, pi/2).integral(x1, 0, 4)\n",
    "# Note: we use float(res) to convert res from symbolic form to floating point form\n",
    "result = {} \n",
    "result[\"analytical\"] = float(res)\n",
    "print(\"Analytical result: {}\".format(result[\"analytical\"]))"
   ]
  },
  {
   "cell_type": "code",
   "execution_count": 34,
   "metadata": {
    "collapsed": false
   },
   "outputs": [
    {
     "name": "stdout",
     "output_type": "stream",
     "text": [
      "Standard Monte Carlo result: 302.5545511071625\n"
     ]
    }
   ],
   "source": [
    "N = 100_000\n",
    "accum = 0\n",
    "for i in range(N):\n",
    "    xx1 = np.random.uniform(0, 4)\n",
    "    xx2 = np.random.uniform(0, np.pi/2)\n",
    "    accum += xx1^3*(1+4*np.sin(xx2)**2)\n",
    "volume = (np.pi*2)\n",
    "result = {} \n",
    "result[\"MC\"] = volume * accum / float(N)\n",
    "print(\"Standard Monte Carlo result: {}\".format(result[\"MC\"]))"
   ]
  },
  {
   "cell_type": "code",
   "execution_count": 35,
   "metadata": {
    "collapsed": false
   },
   "outputs": [
    {
     "name": "stdout",
     "output_type": "stream",
     "text": [
      "Qausi Monte Carlo Halton Sequence result: 301.5509870146024\n"
     ]
    }
   ],
   "source": [
    "N = 100_000\n",
    "\n",
    "seq = halton(2, N)\n",
    "accum = 0\n",
    "for i in range(N):\n",
    "    xx1 =  seq[i][0]*4\n",
    "    xx2 =  seq[i][1] * np.pi/2 \n",
    "    \n",
    "    accum += xx1**3*(1+4*np.sin(xx2)**2)\n",
    "volume = (np.pi*2)\n",
    "result = {} \n",
    "result[\"MC\"] = volume * accum / float(N)\n",
    "print(\"Qausi Monte Carlo Halton Sequence result: {}\".format(result[\"MC\"]))"
   ]
  },
  {
   "cell_type": "markdown",
   "metadata": {
    "collapsed": false
   },
   "source": [
    "<br>\n",
    "<hr>\n",
    "$$\\int_{0}^{1}\\int_{0}^{5}\\int_{0}^{\\frac{\\pi}{2}} e^{2x}ln(2y)cos(z) \\  dzdydx$$\n",
    "<br>"
   ]
  },
  {
   "cell_type": "code",
   "execution_count": 36,
   "metadata": {
    "collapsed": false
   },
   "outputs": [
    {
     "name": "stdout",
     "output_type": "stream",
     "text": [
      "Analytical result: 20.805723081924395\n"
     ]
    }
   ],
   "source": [
    "x1 = var(\"x1\")\n",
    "x2 = var(\"x2\")\n",
    "x3 = var(\"x3\")\n",
    "expr = exp(2*x1)*log(2*x2)*cos(x3)\n",
    "res = expr.integral(x3, 0, pi/2).integral(x2, 0, 5).integral(x1, 0, 1)\n",
    "\n",
    "# Note: we use float(res) to convert res from symbolic form to floating point form\n",
    "result = {} \n",
    "result[\"analytical\"] = float(res)\n",
    "print(\"Analytical result: {}\".format(result[\"analytical\"]))"
   ]
  },
  {
   "cell_type": "code",
   "execution_count": 37,
   "metadata": {
    "collapsed": false
   },
   "outputs": [
    {
     "name": "stdout",
     "output_type": "stream",
     "text": [
      "Standard Monte Carlo result: 20.732963371158792\n"
     ]
    }
   ],
   "source": [
    "N = 100_000\n",
    "accum = 0\n",
    "for i in range(N):\n",
    "    xx1 = np.random.uniform(0, 1)\n",
    "    xx2 = np.random.uniform(0, 5)\n",
    "    xx3 = np.random.uniform(0, np.pi/2)\n",
    "    accum += np.exp(2*xx1)*np.log(2*xx2)*np.cos(xx3)\n",
    "volume = (np.pi*5/2)\n",
    "result = {} \n",
    "result[\"MC\"] = volume * accum / float(N)\n",
    "print(\"Standard Monte Carlo result: {}\".format(result[\"MC\"]))"
   ]
  },
  {
   "cell_type": "code",
   "execution_count": 38,
   "metadata": {
    "collapsed": false
   },
   "outputs": [
    {
     "name": "stdout",
     "output_type": "stream",
     "text": [
      "Qausi Monte Carlo Halton Sequence result: 20.801814777297476\n"
     ]
    }
   ],
   "source": [
    "N = 100_000\n",
    "\n",
    "seq = halton(3, N)\n",
    "accum = 0\n",
    "for i in range(N):\n",
    "    xx1 =  seq[i][0]\n",
    "    xx2 =  seq[i][1] * 5\n",
    "    xx3 =  seq[i][2] * np.pi/2 \n",
    "    accum += np.exp(2*xx1)*np.log(2*xx2)*np.cos(xx3)\n",
    "volume = (np.pi*5/2)\n",
    "result = {} \n",
    "result[\"MC\"] = volume * accum / float(N)\n",
    "print(\"Qausi Monte Carlo Halton Sequence result: {}\".format(result[\"MC\"]))"
   ]
  }
 ],
 "metadata": {
  "kernelspec": {
   "display_name": "SageMath 9.1",
   "language": "sagemath",
   "metadata": {
    "cocalc": {
     "description": "Open-source mathematical software system",
     "priority": 1,
     "url": "https://www.sagemath.org/"
    }
   },
   "name": "sage-9.1"
  },
  "language_info": {
   "codemirror_mode": {
    "name": "ipython",
    "version": 3
   },
   "file_extension": ".py",
   "mimetype": "text/x-python",
   "name": "python",
   "nbconvert_exporter": "python",
   "pygments_lexer": "ipython3",
   "version": "3.7.3"
  }
 },
 "nbformat": 4,
 "nbformat_minor": 4
}